{
 "cells": [
  {
   "cell_type": "markdown",
   "metadata": {
    "ExecuteTime": {
     "end_time": "2023-06-02T20:09:52.323947Z",
     "start_time": "2023-06-02T20:09:52.288653Z"
    },
    "pycharm": {
     "name": "#%%\n"
    },
    "slideshow": {
     "slide_type": "slide"
    }
   },
   "source": [
    "# Exploratory Data Analysis: Part 1\n",
    "\n",
    "Aim: demonstrate a **standard project setup** which makes analyses easy to **run**, **understand** **reproduce** and **share**"
   ]
  },
  {
   "cell_type": "markdown",
   "metadata": {
    "ExecuteTime": {
     "end_time": "2023-06-02T20:09:52.323947Z",
     "start_time": "2023-06-02T20:09:52.288653Z"
    },
    "pycharm": {
     "name": "#%%\n"
    },
    "slideshow": {
     "slide_type": "-"
    }
   },
   "source": [
    "## Agenda\n",
    "\n",
    "🏔️ Project Layout\n",
    "\n",
    "📘 Notebooks\n",
    "\n",
    "📦 Packages\n",
    "\n",
    "🌳 Project Environment \n",
    "\n",
    "📸 Version Control\n",
    "\n",
    "Follow along here: https://github.com/brown-ccv/ccv-bootcamp-python-2023"
   ]
  },
  {
   "cell_type": "markdown",
   "metadata": {
    "slideshow": {
     "slide_type": "slide"
    }
   },
   "source": [
    "# The core project layout (based on 'cookiecutter') is a reasonable starting point \n",
    "🏔️ **Project Layout**\n",
    "\n",
    "```\n",
    "├── notebooks          <- Interactive analysis notebooks (we are here!)\n",
    "├── data\n",
    "│   ├── raw            <- Original, immutable data dump\n",
    "│   ├── interim        <- Transformed data\n",
    "│   └── processed      <- Final data sets for modeling\n",
    "└── src                <- Scripts to...\n",
    "    ├── data           <- Download or generate data  \n",
    "    ├── features       <- Turn data into features for modeling\n",
    "    ├── models         <- Train models and make predictions\n",
    "    └── visualization  <- Visualize data & results\n",
    "```\n",
    "\n",
    "You can set up a project like this with the instructions here: [cookiecutter data science](https://github.com/drivendata/cookiecutter-data-science)"
   ]
  },
  {
   "cell_type": "markdown",
   "metadata": {
    "slideshow": {
     "slide_type": "slide"
    }
   },
   "source": [
    "# Notebooks combine code, narrative text, visualizations and mathematics\n",
    "📘 **Notebooks**\n",
    "\n",
    "> [(Jupyter) Notebook](https://jupyter-notebook.readthedocs.io/en/stable/) is a web-based notebook environment for interactive computing.\n",
    "\n",
    "Notebooks combine:\n",
    "\n",
    "- code (with results including visualizations),\n",
    "- formatted text including mathematics and links, and \n",
    "- interactive widgets.\n",
    "\n",
    "Adapted from [the 2022 bootcamp session](https://github.com/compbiocore/ccv_bootcamp_python/blob/main/notebooks/Using_jupyter.ipynb) – thanks August and Ashok!"
   ]
  },
  {
   "cell_type": "markdown",
   "metadata": {
    "slideshow": {
     "slide_type": "subslide"
    }
   },
   "source": [
    "# Notebooks are great for presenting analyses but not for writing reusable code\n",
    "📘 **Notebooks**: When to use them (and when not)\n",
    "\n",
    "### ❤️ Good\n",
    "Jupyter notebooks are good for presenting analyses (like a paper) or describing code ([Literate programming](https://www-cs-faculty.stanford.edu/~knuth/lp.html)).\n",
    "\n",
    "### ⚡️ Challenging\n",
    "\n",
    "[Extensions (nbdev)](https://nbdev.fast.ai) are required for writing packages with them \n",
    "(it's tricky to [import functions from other notebooks](https://ipynb.readthedocs.io/en/latest/)).\n",
    "\n",
    "Larger analyses with several notebooks might [need scripting](https://nbconvert.readthedocs.io/en/latest/execute_api.html#executing-notebooks-from-the-command-line) to ensure consistency."
   ]
  },
  {
   "cell_type": "markdown",
   "metadata": {
    "slideshow": {
     "slide_type": "subslide"
    }
   },
   "source": [
    "# The menu bar shows all the main ways of interacting with the notebook\n",
    "📘 **Notebooks**: Menu Bar"
   ]
  },
  {
   "cell_type": "markdown",
   "metadata": {},
   "source": [
    "![](images/menu-bar.png)"
   ]
  },
  {
   "cell_type": "markdown",
   "metadata": {
    "slideshow": {
     "slide_type": "subslide"
    }
   },
   "source": [
    "# Code cells contain code to be executed\n",
    "📘 **Notebooks**: Cells: Code\n",
    "\n",
    "A code cell looks like this (and shows the final output immediately afterwards):"
   ]
  },
  {
   "cell_type": "code",
   "execution_count": 2,
   "metadata": {},
   "outputs": [
    {
     "name": "stdout",
     "output_type": "stream",
     "text": [
      "Hello, World!\n"
     ]
    }
   ],
   "source": [
    "print(\"Hello, World!\")"
   ]
  },
  {
   "cell_type": "markdown",
   "metadata": {
    "slideshow": {
     "slide_type": "subslide"
    }
   },
   "source": [
    "# Markdown cells contain text, mathematics and images to be displayed\n",
    "📘 **Notebooks**: Cells: Markdown\n",
    "... whereas [markdown](https://daringfireball.net/projects/markdown/) cells looks like this:"
   ]
  },
  {
   "cell_type": "markdown",
   "metadata": {
    "slideshow": {
     "slide_type": "fragment"
    }
   },
   "source": [
    "### Mathematical expression\n",
    "\n",
    "Here's an inline expression $e^{i\\pi}=-1$\n",
    "and here's a displayed equation:\n",
    "$$–\n",
    "\\sum_{i = 0}^\\infty \\frac{1}{i!} = \\frac{1}{0!} + \\frac{1}{1!} + \\frac{1}{2!} + \\frac{1}{3!} + \\frac{1}{4!} + \\cdots = e\n",
    "$$"
   ]
  },
  {
   "cell_type": "markdown",
   "metadata": {
    "slideshow": {
     "slide_type": "fragment"
    }
   },
   "source": [
    "### Table\n",
    "| Syntax      | Description |\n",
    "| ----------- | ----------- |\n",
    "| Header      | Title       |\n",
    "| Paragraph   | Text        |"
   ]
  },
  {
   "cell_type": "markdown",
   "metadata": {
    "slideshow": {
     "slide_type": "fragment"
    }
   },
   "source": [
    "### Image\n",
    "\n",
    "![](images/brown.svg)."
   ]
  },
  {
   "cell_type": "markdown",
   "metadata": {
    "slideshow": {
     "slide_type": "subslide"
    }
   },
   "source": [
    "# View a variable's value by putting it at the end of the cell\n",
    "📘 **Notebooks**: Variable Viewing"
   ]
  },
  {
   "cell_type": "code",
   "execution_count": 11,
   "metadata": {},
   "outputs": [
    {
     "data": {
      "text/plain": [
       "21"
      ]
     },
     "execution_count": 11,
     "metadata": {},
     "output_type": "execute_result"
    }
   ],
   "source": [
    "k = 0\n",
    "for i in range(7):\n",
    "    k += i\n",
    "k"
   ]
  },
  {
   "cell_type": "markdown",
   "metadata": {
    "slideshow": {
     "slide_type": "subslide"
    }
   },
   "source": [
    "# ⚠️ Out of Order Notebooks are Bad. Notebooks should without errors from top to bottom\n",
    "📘 **Notebooks**: Cell Ordering Problems\n",
    "\n",
    "These cells are out-of-order:"
   ]
  },
  {
   "cell_type": "code",
   "execution_count": 9,
   "metadata": {},
   "outputs": [],
   "source": [
    "# Setup for the coming demonstration – delete the variable \"a\" \n",
    "# – run this first, but only if you've already run the second next cell!\n",
    "del(a)"
   ]
  },
  {
   "cell_type": "code",
   "execution_count": 7,
   "metadata": {},
   "outputs": [],
   "source": [
    "# Increment a by one – run this third!\n",
    "a += 1"
   ]
  },
  {
   "cell_type": "code",
   "execution_count": 6,
   "metadata": {},
   "outputs": [],
   "source": [
    "# Initialize a to zero – run this first (the first time around) or second (thereafter)!\n",
    "a = 0"
   ]
  },
  {
   "cell_type": "code",
   "execution_count": 8,
   "metadata": {},
   "outputs": [
    {
     "name": "stdout",
     "output_type": "stream",
     "text": [
      "1\n"
     ]
    }
   ],
   "source": [
    "# Print the current value of a – run this last!\n",
    "print(a)"
   ]
  },
  {
   "cell_type": "markdown",
   "metadata": {},
   "source": [
    "... so I had to *document* how to run them."
   ]
  },
  {
   "cell_type": "markdown",
   "metadata": {
    "slideshow": {
     "slide_type": "subslide"
    }
   },
   "source": [
    "# ✅ In-Order Notebooks are Good\n",
    "📘 **Notebooks**: Cell Ordering Solutions\n",
    "\n",
    "It's much easier, and more understandable, to have them correctly ordered. \n",
    "\n",
    "### Pro-Tip: restart and rerun often\n",
    "Get into the habit of regularly\n",
    "- restarting the ipython \"kernel\", then\n",
    "- running all cells of your notebook, then\n",
    "- checking for and fixing any errors."
   ]
  },
  {
   "cell_type": "markdown",
   "metadata": {
    "slideshow": {
     "slide_type": "subslide"
    }
   },
   "source": [
    "# Notebooks can use IPython's \"magic\" functions (\"magics\")\n",
    "📘 **Notebooks**: IPython magics\n",
    "\n",
    "Jupyter has access to all the Magics from the IPython kernel, which can make life easier!\n",
    "\n",
    "Some examples are \n",
    "\n",
    "- `%%writefile`: Writes the content of a cell into a python file\n",
    "- `%pycat`: shows you (in a popup) the syntax highlighted contents of an external file.\n",
    "- `%load`: This will replace the contents of the cell with an external script. You can either use a file on your computer as a source, or alternatively a URL.\n",
    "\n",
    "We'll not go into them today. Check out the \n",
    "[IPython Magics Documentation](https://ipython.readthedocs.io/en/stable/interactive/magics.html) \n",
    "for more info."
   ]
  },
  {
   "cell_type": "markdown",
   "metadata": {
    "slideshow": {
     "slide_type": "slide"
    }
   },
   "source": [
    "# Python has thousands of freely available packages which add to its functionality\n",
    "📦 **Packages**\n",
    "\n",
    "Python packages provide functionality beyond the standard library, e.g.:\n",
    "- pandas (for data analysis)\n",
    "- scikit-learn (for machine learning)\n",
    "- matplotlib (for plotting)\n",
    "- numpy (for array programming)\n",
    "- thousands more...\n",
    "\n",
    "You need a **package manager** like `pip` or `conda` to resolve dependencies and find packages."
   ]
  },
  {
   "cell_type": "markdown",
   "metadata": {
    "slideshow": {
     "slide_type": "subslide"
    }
   },
   "source": [
    "# We use imports to leverage python's extensive package ecosystem\n",
    "📦 **Packages**: Imports"
   ]
  },
  {
   "cell_type": "code",
   "execution_count": null,
   "metadata": {
    "ExecuteTime": {
     "end_time": "2023-06-02T22:39:01.929566Z",
     "start_time": "2023-06-02T22:39:01.322391Z"
    }
   },
   "outputs": [],
   "source": [
    "# Based on https://matplotlib.org/stable/gallery/lines_bars_and_markers/simple_plot.html\n",
    "import numpy as np\n",
    "import matplotlib.pyplot as plt\n",
    "\n",
    "# Data for plotting\n",
    "t = np.linspace(0.0, 2.0, 101)  # values [0.0, 0.01, 0.02, ..., 2.0]\n",
    "s = 1 + np.sin(2 * np.pi * t)  \n",
    "\n",
    "# Plot it\n",
    "plt.plot(t, s)\n",
    "plt.xlabel('time (s)')\n",
    "plt.ylabel('voltage (mV)')\n",
    "plt.title('About as simple as it gets, folks')\n",
    "plt.grid()\n",
    "plt.show()"
   ]
  },
  {
   "cell_type": "markdown",
   "metadata": {
    "slideshow": {
     "slide_type": "subslide"
    }
   },
   "source": [
    "# Find information on packages using `help(...)` and the web\n",
    "For instance, you might want to find out more about `numpy`. "
   ]
  },
  {
   "cell_type": "code",
   "execution_count": null,
   "metadata": {},
   "outputs": [],
   "source": [
    "import numpy"
   ]
  },
  {
   "cell_type": "markdown",
   "metadata": {},
   "source": [
    "Once you've imported it, you can show its built-in documentation like this:"
   ]
  },
  {
   "cell_type": "code",
   "execution_count": null,
   "metadata": {
    "slideshow": {
     "slide_type": "-"
    }
   },
   "outputs": [],
   "source": [
    "help(np)"
   ]
  },
  {
   "cell_type": "markdown",
   "metadata": {},
   "source": [
    "You can do `help(...)` on functions too:"
   ]
  },
  {
   "cell_type": "code",
   "execution_count": null,
   "metadata": {},
   "outputs": [],
   "source": [
    "help(numpy.linspace)"
   ]
  },
  {
   "cell_type": "markdown",
   "metadata": {},
   "source": [
    "... and many packages offer online documentation:\n",
    "https://numpy.org/doc/stable/"
   ]
  },
  {
   "cell_type": "markdown",
   "metadata": {
    "slideshow": {
     "slide_type": "subslide"
    }
   },
   "source": [
    "# Complex package dependencies mean that package managers are vital\n",
    "📦 **Packages**: Conflict Resolution ∴ Package Manager\n",
    "\n",
    "Problem: Packages might depend on each other, e.g. \n",
    "- `pandas` needs `numpy` ≥ 1.21.6\n",
    "- `scikit-learn` needs `numpy` ≥ 1.17.3\n",
    "\n",
    "If you want both, you need `numpy` ≥ 1.21.6\n",
    "\n",
    "For projects with many dependencies, manual resolution is very time consuming. \n",
    "\n",
    "A **package manager** resolves these conflicts recursively for you (or tells you if they aren't satisfiable)."
   ]
  },
  {
   "cell_type": "markdown",
   "metadata": {
    "slideshow": {
     "slide_type": "subslide"
    }
   },
   "source": [
    "# Complex package dependencies mean that package managers are vital\n",
    "📦 **Packages**: Registries ∴ Package Manager\n",
    "\n",
    "Python packages are published to **registries**, like [PyPI.org](https://pypi.org) and [Anaconda.org](https://anaconda.org).\n",
    "\n",
    "A **package manager**: \n",
    "- searches a registry for package versions you need\n",
    "- determines which are compatible with your system\n",
    "- installs the right ones."
   ]
  },
  {
   "cell_type": "markdown",
   "metadata": {
    "slideshow": {
     "slide_type": "subslide"
    }
   },
   "source": [
    "# Package managers include `pip` (a good default) and `conda` (great for science)\n",
    "📦 **Packages**: Package managers\n",
    "\n",
    "The main package managers for python are:\n",
    "\n",
    "- `pip`:\n",
    "  - bundled with python \n",
    "  - uses the [PyPI.org](https://pypi.org) registry by default\n",
    "- `conda`:\n",
    "  - installs packages beyond python, like binaries [`graphviz`](https://graphviz.org). \n",
    "  - part of the [Anaconda distribution](https://anaconda.org) for scientific computing."
   ]
  },
  {
   "cell_type": "markdown",
   "metadata": {
    "slideshow": {
     "slide_type": "slide"
    }
   },
   "source": [
    "# Each project has a \"virtual environment\" and a package manager\n",
    "🌳 **Project Environment**\n",
    "\n",
    "Every project has its own dependencies ∴ each project needs its own \"virtual environment\"  \n",
    "\n",
    "You need an **environment manager** like `venv` (a fine default), `conda` (the standard for science), or `poetry`/`hatch`/ `pdm` (for package development)."
   ]
  },
  {
   "cell_type": "markdown",
   "metadata": {
    "slideshow": {
     "slide_type": "subslide"
    }
   },
   "source": [
    "# Different projects may have different dependencies, and project dependencies can't be allowed to conflict\n",
    "🌳 **Project Environment**: Problems\n",
    "\n",
    "Different project may require different \"enviroments\": with different packages and/or package versions.\n",
    "\n",
    "Coders often work...:\n",
    "\n",
    "- on more than one project over time ∴ environments must be precisely reproducible\n",
    "- on more than one project at once ∴ multiple environments mustn't conflict\n",
    "- on more than one computer ∴ environments must be transferrable\n",
    "- in groups ∴ environments must be shareable"
   ]
  },
  {
   "cell_type": "markdown",
   "metadata": {
    "slideshow": {
     "slide_type": "subslide"
    }
   },
   "source": [
    "# You need virtual environments to isolate the dependencies of different projects\n",
    "🌳 **Project Environment**: Virtual environments\n",
    "\n",
    "The solution is separate **virtual environments**, which: [[ref]](https://docs.python.org/3/library/venv.html)\n",
    "\n",
    "- have their own Python binary (& standard library)\n",
    "- can have their own independent set of installed packages\n",
    "- come with a way to \"freeze\", share and reproduce a set of packages precisely, elsewhere and/or later"
   ]
  },
  {
   "cell_type": "markdown",
   "metadata": {
    "slideshow": {
     "slide_type": "subslide"
    }
   },
   "source": [
    "# You need virtual environments to isolate the dependencies of different projects\n",
    "🌳 **Project Environment**: Environment managers\n",
    "\n",
    "The default environment manager for python is \n",
    "[`venv`](https://docs.python.org/3/library/venv.html) (or its extensions\n",
    "[`virtualenv`](https://virtualenv.pypa.io/en/latest/) & \n",
    "[`virtualenvwrapper`](https://virtualenvwrapper.readthedocs.io/en/latest/)). It works `pip`.\n",
    "\n",
    "`conda` is the best choice for science. \n",
    "It works with python *plus* R, julia, system binaries...\n",
    "\n",
    "`poetry`, `hatch` and `pdm` provide special utilities for package development."
   ]
  },
  {
   "cell_type": "markdown",
   "metadata": {
    "slideshow": {
     "slide_type": "slide"
    }
   },
   "source": [
    "# Version control allows you to reproduce *every* analysis (if commits are small)\n",
    "📸 **Version control**\n",
    "Both solo and collaborative coding are made easier with a version control system.\n",
    "In short, source control:\n",
    "\n",
    "- Is a time machine allowing you to revisit every analysis as it was\n",
    "- Makes collaboration easier – simplifying sharing code and merging changes\n",
    "\n",
    "This project uses **git**.\n",
    "\n",
    "For more info, see the [workshop session on **git**](https://brownccv.notion.site/Coding-Collaboration-using-Git-GitHub-and-Pull-Requests-afdc0e8c48a449f2864f0e3e8b5b4a59?pvs=4).\n"
   ]
  }
 ],
 "metadata": {
  "celltoolbar": "Slideshow",
  "kernelspec": {
   "display_name": "Python 3 (ipykernel)",
   "language": "python",
   "name": "python3"
  },
  "language_info": {
   "codemirror_mode": {
    "name": "ipython",
    "version": 3
   },
   "file_extension": ".py",
   "mimetype": "text/x-python",
   "name": "python",
   "nbconvert_exporter": "python",
   "pygments_lexer": "ipython3",
   "version": "3.9.6"
  },
  "rise": {
   "scroll": "true"
  }
 },
 "nbformat": 4,
 "nbformat_minor": 4
}
