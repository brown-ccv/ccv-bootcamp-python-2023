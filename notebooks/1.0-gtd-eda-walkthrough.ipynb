{
 "cells": [
  {
   "cell_type": "markdown",
   "source": [
    "# Exploratory Data Analysis: Hands on Data\n",
    "Today we will be demonstrating the following key exploratory data analysis techniques using an example dataset:\n",
    "**Agenda:**\n",
    "1. Importing libraries & packages\n",
    "2. Importing tabular data to a DataFrame\n",
    "3. Inspecting DataFrame structure\n",
    "4. Concatenation\n",
    "5. Renaming columns\n",
    "6. Exploring values\n",
    "7. Handling NaNs and Nulls\n",
    "8. Plotting\n",
    "\n",
    "\n",
    "\n",
    "## The Data\n",
    "Our example dataset is daily summaries of air quality data from Providence, RI. It will give you some experience with working with temporal data.\n",
    "\n",
    "The Rhode Island Department of Environmental Management (RIDEM) and Rhode Island Department of Health (RIDOH) collects air quality data at several sites across Rhode Island. We will be examining data from one site at the Community of Rhode Island (CCRI) Liston Campus. Here's some background:\n",
    "\n",
    "* The CCRI site is part of the EPA's *State or Local Air Monitoring Stations* (SLAMS) and *National Air Toxics Trends Sites* (NATTS) networks.\n",
    "* A variety of air pollutants (particulate matter (PM), volatile organic carbon (VOCs),  polycyclic aromatic hydrocarbons (PAHs), carbonyls, black carbon) have been monitored at this site since 2005.\n",
    "* A reference for some of the dataset's [field descriptions](https://aqs.epa.gov/aqsweb/airdata/FileFormats.html#_daily_summary_files).\n",
    "* The data was obtained from the Environmental Protection Agency (EPA) [Air Quality Data website](https://www.epa.gov/outdoor-air-quality-data).\n",
    "        <div>\n",
    "        <img src=\"images/aq-site-info.png\" width=\"400\"/>\n",
    "        </div>\n",
    "\n",
    "We will use a subset of this data in the demonstrations below and give you a chance to work with a larger dataset during the hands-on lab.\n",
    "\n",
    "*Links*\n",
    "[EPA Air Quality Data Interactive Map](https://www.epa.gov/outdoor-air-quality-data/interactive-map-air-quality-monitors) - Data source\n",
    "[RIDEM 2022 Annual Monitoring Report](https://dem.ri.gov/sites/g/files/xkgbur861/files/2023-01/airnet22.pdf) - More information about the site and other monitoring locations across the state.\n",
    "\n",
    "---"
   ],
   "metadata": {
    "collapsed": false
   }
  },
  {
   "cell_type": "markdown",
   "source": [
    "## 1. Importing libraries & packages\n",
    "Importing packages typically appears at the top of the file.\n",
    "* `import <package_name>` is the most basic command\n",
    "* The package can be imported with an alias to shorten verbosity. Common packages will often have a conventional alias.\n",
    "<blockquote>\n",
    "\n",
    "```python\n",
    "import pandas\n",
    "pandas.read_csv(path)\n",
    "\n",
    "# VS as an alias\n",
    "\n",
    "import pandas as pd\n",
    "pd.read_csv(path)\n",
    "```\n",
    "</blockquote>\n"
   ],
   "metadata": {
    "collapsed": false
   }
  },
  {
   "cell_type": "code",
   "execution_count": 18,
   "outputs": [],
   "source": [
    "import pandas as pd  # Import pandas library as an alias of 'pd'\n",
    "import matplotlib.pyplot as plt  # Import the sub-package pyplot from the matplotlib library as an alias of 'plt'\n",
    "import os  # Import standard library operating system package that deals with system directory interfaces\n",
    "from pathlib import Path  # Import filesystem path package, for easier pathing to files and outputs\n",
    "\n",
    "# Magic command for jupyter notebook to generate figures within the notebook\n",
    "%matplotlib inline"
   ],
   "metadata": {
    "collapsed": false
   }
  },
  {
   "cell_type": "markdown",
   "source": [
    "## 2. Importing tabular data to a DataFrame\n",
    "The pandas package reads tabular data into a data structure called a `DataFrame`. Some examples of read functions are below:\n",
    "* [`pd.read_csv`](https://pandas.pydata.org/docs/reference/api/pandas.read_csv.html) - Comma-delimited or other delimited files\n",
    "* [`pd.read_fwf`](https://pandas.pydata.org/docs/reference/api/pandas.read_fwf.html#) - Fixed width files\n",
    "* [`pd.read_excel`](https://pandas.pydata.org/docs/reference/api/pandas.read_excel.html) - Microsoft excel files\n",
    "* [`pd.read_sql`](https://pandas.pydata.org/docs/reference/api/pandas.read_sql.html) - SQL query or database table\n",
    "* See [pandas I/O documentation](https://pandas.pydata.org/docs/reference/io.html#input-output) for more examples\n",
    "\n",
    "We will be working with the `pd.read_csv()` because our data is comma-delimited. This function defaults to read comma-delimited files, but can be used on any delimited text file when the seperator is specified.\n",
    "\n",
    "A. To start we need specify the path to our data directory:\n",
    "```\n",
    "project\n",
    "├── data\n",
    "│   └── raw\n",
    "│       └── monthly            <- Data is here\n",
    "│\n",
    "└── notebooks                  <- Our working directory is here\n",
    "```\n",
    "We will be using package `os` and `Path` from `pathlib` to create out directory path because it standardizes pathing between operating systems. Path separators are different between Unix (Mac & Linux; using `/`) and Windows (using `\\`) operating systems. Avoiding full string paths makes the code universal."
   ],
   "metadata": {
    "collapsed": false
   }
  },
  {
   "cell_type": "code",
   "execution_count": 19,
   "outputs": [
    {
     "data": {
      "text/plain": "PosixPath('../data/raw/monthly')"
     },
     "execution_count": 19,
     "metadata": {},
     "output_type": "execute_result"
    }
   ],
   "source": [
    "project_top = Path('..', 'data', 'raw', 'monthly')\n",
    "project_top"
   ],
   "metadata": {
    "collapsed": false
   }
  },
  {
   "cell_type": "code",
   "execution_count": 20,
   "outputs": [
    {
     "name": "stdout",
     "output_type": "stream",
     "text": [
      "The current working directory is where this notebook is located: /Users/gdang2/repos/ccv-bootcamp-python-2023/notebooks\n",
      "This is the the top level of the project: /Users/gdang2/repos/ccv-bootcamp-python-2023\n",
      "This is the monthly data directory: /Users/gdang2/repos/ccv-bootcamp-python-2023/data/raw/monthly\n"
     ]
    }
   ],
   "source": [
    "\n",
    "# Create the\n",
    "project_top = Path('..', 'data', 'raw', 'monthly')\n",
    "\n",
    "## We get our current working directory\n",
    "cwd = os.getcwd()\n",
    "print(f'The current working directory is where this notebook is located: {cwd}')\n",
    "\n",
    "## We initialize a Path object named project_top using the cwd and define the top-level of the project with the parent directory\n",
    "project_top = Path(cwd).parents[0]\n",
    "print(f'This is the the top level of the project: {project_top}')\n",
    "\n",
    "## We extend the path to the monthly data directory\n",
    "path_to_monthly_data = project_top / 'data' / 'raw' / 'monthly'\n",
    "path_to_monthly_data2 = project_top.joinpath('data', 'raw',\n",
    "                                             'monthly')  # Alternative syntax for extending path\n",
    "\n",
    "print(f'This is the monthly data directory: {path_to_monthly_data}')"
   ],
   "metadata": {
    "collapsed": false
   }
  },
  {
   "cell_type": "markdown",
   "source": [
    "Using the path generated above, we will read the first month of data (January 2022)."
   ],
   "metadata": {
    "collapsed": false
   }
  },
  {
   "cell_type": "code",
   "execution_count": 21,
   "outputs": [],
   "source": [
    "# Read and save the DataFrame object to a variable 'df_2022_01'\n",
    "df_2022_01 = pd.read_csv(path_to_monthly_data / 'daily_44_007_0022_2022_01.csv')"
   ],
   "metadata": {
    "collapsed": false
   }
  },
  {
   "cell_type": "markdown",
   "source": [
    "## Inspecting DataFrame Structure\n",
    "Now that we have imported the data to a DataFrame. Some questions we are curious about:\n",
    "1. Did it import correctly?\n",
    "2. What does the table look like? Number of rows? Columns?\n",
    "3. Do we need all the data we are importing?\n",
    "4. Is the data in the correct format?\n",
    "\n",
    "We can inspect the DataFrame object by looking at its **attributes** and using DataFrame **methods**.\n",
    "\n",
    "Here are useful **attributes** of the dataframe\n",
    "* `.shape`:  Table dimensions\n",
    "* `.columns`:  Sequence of columns\n",
    "* `.index`:  Sequence of row indexes/labels\n",
    "* `.dtypes`: Data types by column\n",
    "\n",
    "Here are a few useful **methods** to inspect a dataframe:\n",
    "* `.head()`: Shows the first 5 rows--can change the number by supplying an integer.\n",
    "* `.tail()`: Shows the last 5 rows--can change the number by supplying an integer.\n",
    "* `.info()`: Combines several DataFrame attributes to one report.\n",
    "* `.select_dtypes()`: Useful for viewing only columns of certain data types.\n"
   ],
   "metadata": {
    "collapsed": false
   }
  },
  {
   "cell_type": "markdown",
   "source": [
    "<div class=\"alert alert-block alert-info\">\n",
    "Python objects may have <b>attributes</b> and <b>methods</b>.\n",
    "\n",
    "<b>attributes</b> - Are properties of the object type. Say that there is a `Person` object, the person's favorite food is one of their properties.\n",
    "<b>methods</b> - Are functions bound to an object type. They often perform a process that uses the object's properties. A method of a `Person` object, could be report writing.\n",
    "\n",
    "Attributes and methods are accessed by using dot (`.`) connectors to the object. The difference is that methods have `()` at the end so arguments can be passed.\n",
    ">Example:\n",
    "> ```Python\n",
    "> George.favorite_food  # Accessing an attribute\n",
    "> >>> 'Pho'\n",
    "> my_report = George.write_report(topic='favorite_food', pages=5)  # Calling a method\n",
    "> ```\n",
    "</div>"
   ],
   "metadata": {
    "collapsed": false
   }
  },
  {
   "cell_type": "code",
   "execution_count": 22,
   "outputs": [
    {
     "data": {
      "text/plain": "   State Code  County Code  Site Number  Parameter Code  POC   Latitude   \n0          44            7           22           87101    1  41.807469  \\\n1          44            7           22           61107    1  41.807469   \n2          44            7           22           62101    1  41.807469   \n3          44            7           22           61104    1  41.807469   \n4          44            7           22           84313    1  41.807469   \n\n   Longitude  Datum                Parameter Name Duration Description  ...   \n0 -71.412968  NAD83  Particle Number, Total Count               1 HOUR  ...  \\\n1 -71.412968  NAD83     Std Dev Vt Wind Direction               1 HOUR  ...   \n2 -71.412968  NAD83           Outdoor Temperature               1 HOUR  ...   \n3 -71.412968  NAD83    Wind Direction - Resultant               1 HOUR  ...   \n4 -71.412968  NAD83        Black carbon PM2.5 STP               1 HOUR  ...   \n\n  AQI Daily Criteria Indicator  Tribe Name    State Name County Name   \n0   .                        Y         NaN  Rhode Island  Providence  \\\n1   .                        Y         NaN  Rhode Island  Providence   \n2   .                        Y         NaN  Rhode Island  Providence   \n3   .                        Y         NaN  Rhode Island  Providence   \n4   .                        Y         NaN  Rhode Island  Providence   \n\n    City Name             Local Site Name                     Address   \n0  Providence  CCRI Liston Campus ROOFTOP  1 Hilton St, PROVIDENCE RI  \\\n1  Providence  CCRI Liston Campus ROOFTOP  1 Hilton St, PROVIDENCE RI   \n2  Providence  CCRI Liston Campus ROOFTOP  1 Hilton St, PROVIDENCE RI   \n3  Providence  CCRI Liston Campus ROOFTOP  1 Hilton St, PROVIDENCE RI   \n4  Providence  CCRI Liston Campus ROOFTOP  1 Hilton St, PROVIDENCE RI   \n\n            MSA or CBSA Name    Data Source  \n0  Providence-Warwick, RI-MA  AQS Data Mart  \n1  Providence-Warwick, RI-MA  AQS Data Mart  \n2  Providence-Warwick, RI-MA  AQS Data Mart  \n3  Providence-Warwick, RI-MA  AQS Data Mart  \n4  Providence-Warwick, RI-MA  AQS Data Mart  \n\n[5 rows x 34 columns]",
      "text/html": "<div>\n<style scoped>\n    .dataframe tbody tr th:only-of-type {\n        vertical-align: middle;\n    }\n\n    .dataframe tbody tr th {\n        vertical-align: top;\n    }\n\n    .dataframe thead th {\n        text-align: right;\n    }\n</style>\n<table border=\"1\" class=\"dataframe\">\n  <thead>\n    <tr style=\"text-align: right;\">\n      <th></th>\n      <th>State Code</th>\n      <th>County Code</th>\n      <th>Site Number</th>\n      <th>Parameter Code</th>\n      <th>POC</th>\n      <th>Latitude</th>\n      <th>Longitude</th>\n      <th>Datum</th>\n      <th>Parameter Name</th>\n      <th>Duration Description</th>\n      <th>...</th>\n      <th>AQI</th>\n      <th>Daily Criteria Indicator</th>\n      <th>Tribe Name</th>\n      <th>State Name</th>\n      <th>County Name</th>\n      <th>City Name</th>\n      <th>Local Site Name</th>\n      <th>Address</th>\n      <th>MSA or CBSA Name</th>\n      <th>Data Source</th>\n    </tr>\n  </thead>\n  <tbody>\n    <tr>\n      <th>0</th>\n      <td>44</td>\n      <td>7</td>\n      <td>22</td>\n      <td>87101</td>\n      <td>1</td>\n      <td>41.807469</td>\n      <td>-71.412968</td>\n      <td>NAD83</td>\n      <td>Particle Number, Total Count</td>\n      <td>1 HOUR</td>\n      <td>...</td>\n      <td>.</td>\n      <td>Y</td>\n      <td>NaN</td>\n      <td>Rhode Island</td>\n      <td>Providence</td>\n      <td>Providence</td>\n      <td>CCRI Liston Campus ROOFTOP</td>\n      <td>1 Hilton St, PROVIDENCE RI</td>\n      <td>Providence-Warwick, RI-MA</td>\n      <td>AQS Data Mart</td>\n    </tr>\n    <tr>\n      <th>1</th>\n      <td>44</td>\n      <td>7</td>\n      <td>22</td>\n      <td>61107</td>\n      <td>1</td>\n      <td>41.807469</td>\n      <td>-71.412968</td>\n      <td>NAD83</td>\n      <td>Std Dev Vt Wind Direction</td>\n      <td>1 HOUR</td>\n      <td>...</td>\n      <td>.</td>\n      <td>Y</td>\n      <td>NaN</td>\n      <td>Rhode Island</td>\n      <td>Providence</td>\n      <td>Providence</td>\n      <td>CCRI Liston Campus ROOFTOP</td>\n      <td>1 Hilton St, PROVIDENCE RI</td>\n      <td>Providence-Warwick, RI-MA</td>\n      <td>AQS Data Mart</td>\n    </tr>\n    <tr>\n      <th>2</th>\n      <td>44</td>\n      <td>7</td>\n      <td>22</td>\n      <td>62101</td>\n      <td>1</td>\n      <td>41.807469</td>\n      <td>-71.412968</td>\n      <td>NAD83</td>\n      <td>Outdoor Temperature</td>\n      <td>1 HOUR</td>\n      <td>...</td>\n      <td>.</td>\n      <td>Y</td>\n      <td>NaN</td>\n      <td>Rhode Island</td>\n      <td>Providence</td>\n      <td>Providence</td>\n      <td>CCRI Liston Campus ROOFTOP</td>\n      <td>1 Hilton St, PROVIDENCE RI</td>\n      <td>Providence-Warwick, RI-MA</td>\n      <td>AQS Data Mart</td>\n    </tr>\n    <tr>\n      <th>3</th>\n      <td>44</td>\n      <td>7</td>\n      <td>22</td>\n      <td>61104</td>\n      <td>1</td>\n      <td>41.807469</td>\n      <td>-71.412968</td>\n      <td>NAD83</td>\n      <td>Wind Direction - Resultant</td>\n      <td>1 HOUR</td>\n      <td>...</td>\n      <td>.</td>\n      <td>Y</td>\n      <td>NaN</td>\n      <td>Rhode Island</td>\n      <td>Providence</td>\n      <td>Providence</td>\n      <td>CCRI Liston Campus ROOFTOP</td>\n      <td>1 Hilton St, PROVIDENCE RI</td>\n      <td>Providence-Warwick, RI-MA</td>\n      <td>AQS Data Mart</td>\n    </tr>\n    <tr>\n      <th>4</th>\n      <td>44</td>\n      <td>7</td>\n      <td>22</td>\n      <td>84313</td>\n      <td>1</td>\n      <td>41.807469</td>\n      <td>-71.412968</td>\n      <td>NAD83</td>\n      <td>Black carbon PM2.5 STP</td>\n      <td>1 HOUR</td>\n      <td>...</td>\n      <td>.</td>\n      <td>Y</td>\n      <td>NaN</td>\n      <td>Rhode Island</td>\n      <td>Providence</td>\n      <td>Providence</td>\n      <td>CCRI Liston Campus ROOFTOP</td>\n      <td>1 Hilton St, PROVIDENCE RI</td>\n      <td>Providence-Warwick, RI-MA</td>\n      <td>AQS Data Mart</td>\n    </tr>\n  </tbody>\n</table>\n<p>5 rows × 34 columns</p>\n</div>"
     },
     "execution_count": 22,
     "metadata": {},
     "output_type": "execute_result"
    }
   ],
   "source": [
    "df_2022_01.head()"
   ],
   "metadata": {
    "collapsed": false
   }
  },
  {
   "cell_type": "code",
   "execution_count": 23,
   "outputs": [
    {
     "data": {
      "text/plain": "     State Code  County Code  Site Number  Parameter Code  POC   Latitude   \n738          44            7           22           62201    1  41.807469  \\\n739          44            7           22           84313    1  41.807469   \n740          44            7           22           61107    1  41.807469   \n741          44            7           22           61103    1  41.807469   \n742          44            7           22           61104    1  41.807469   \n\n     Longitude  Datum              Parameter Name Duration Description  ...   \n738 -71.412968  NAD83           Relative Humidity               1 HOUR  ...  \\\n739 -71.412968  NAD83      Black carbon PM2.5 STP               1 HOUR  ...   \n740 -71.412968  NAD83   Std Dev Vt Wind Direction               1 HOUR  ...   \n741 -71.412968  NAD83      Wind Speed - Resultant               1 HOUR  ...   \n742 -71.412968  NAD83  Wind Direction - Resultant               1 HOUR  ...   \n\n    AQI Daily Criteria Indicator  Tribe Name    State Name County Name   \n738   .                        Y         NaN  Rhode Island  Providence  \\\n739   .                        Y         NaN  Rhode Island  Providence   \n740   .                        Y         NaN  Rhode Island  Providence   \n741   .                        Y         NaN  Rhode Island  Providence   \n742   .                        Y         NaN  Rhode Island  Providence   \n\n      City Name             Local Site Name                     Address   \n738  Providence  CCRI Liston Campus ROOFTOP  1 Hilton St, PROVIDENCE RI  \\\n739  Providence  CCRI Liston Campus ROOFTOP  1 Hilton St, PROVIDENCE RI   \n740  Providence  CCRI Liston Campus ROOFTOP  1 Hilton St, PROVIDENCE RI   \n741  Providence  CCRI Liston Campus ROOFTOP  1 Hilton St, PROVIDENCE RI   \n742  Providence  CCRI Liston Campus ROOFTOP  1 Hilton St, PROVIDENCE RI   \n\n              MSA or CBSA Name    Data Source  \n738  Providence-Warwick, RI-MA  AQS Data Mart  \n739  Providence-Warwick, RI-MA  AQS Data Mart  \n740  Providence-Warwick, RI-MA  AQS Data Mart  \n741  Providence-Warwick, RI-MA  AQS Data Mart  \n742  Providence-Warwick, RI-MA  AQS Data Mart  \n\n[5 rows x 34 columns]",
      "text/html": "<div>\n<style scoped>\n    .dataframe tbody tr th:only-of-type {\n        vertical-align: middle;\n    }\n\n    .dataframe tbody tr th {\n        vertical-align: top;\n    }\n\n    .dataframe thead th {\n        text-align: right;\n    }\n</style>\n<table border=\"1\" class=\"dataframe\">\n  <thead>\n    <tr style=\"text-align: right;\">\n      <th></th>\n      <th>State Code</th>\n      <th>County Code</th>\n      <th>Site Number</th>\n      <th>Parameter Code</th>\n      <th>POC</th>\n      <th>Latitude</th>\n      <th>Longitude</th>\n      <th>Datum</th>\n      <th>Parameter Name</th>\n      <th>Duration Description</th>\n      <th>...</th>\n      <th>AQI</th>\n      <th>Daily Criteria Indicator</th>\n      <th>Tribe Name</th>\n      <th>State Name</th>\n      <th>County Name</th>\n      <th>City Name</th>\n      <th>Local Site Name</th>\n      <th>Address</th>\n      <th>MSA or CBSA Name</th>\n      <th>Data Source</th>\n    </tr>\n  </thead>\n  <tbody>\n    <tr>\n      <th>738</th>\n      <td>44</td>\n      <td>7</td>\n      <td>22</td>\n      <td>62201</td>\n      <td>1</td>\n      <td>41.807469</td>\n      <td>-71.412968</td>\n      <td>NAD83</td>\n      <td>Relative Humidity</td>\n      <td>1 HOUR</td>\n      <td>...</td>\n      <td>.</td>\n      <td>Y</td>\n      <td>NaN</td>\n      <td>Rhode Island</td>\n      <td>Providence</td>\n      <td>Providence</td>\n      <td>CCRI Liston Campus ROOFTOP</td>\n      <td>1 Hilton St, PROVIDENCE RI</td>\n      <td>Providence-Warwick, RI-MA</td>\n      <td>AQS Data Mart</td>\n    </tr>\n    <tr>\n      <th>739</th>\n      <td>44</td>\n      <td>7</td>\n      <td>22</td>\n      <td>84313</td>\n      <td>1</td>\n      <td>41.807469</td>\n      <td>-71.412968</td>\n      <td>NAD83</td>\n      <td>Black carbon PM2.5 STP</td>\n      <td>1 HOUR</td>\n      <td>...</td>\n      <td>.</td>\n      <td>Y</td>\n      <td>NaN</td>\n      <td>Rhode Island</td>\n      <td>Providence</td>\n      <td>Providence</td>\n      <td>CCRI Liston Campus ROOFTOP</td>\n      <td>1 Hilton St, PROVIDENCE RI</td>\n      <td>Providence-Warwick, RI-MA</td>\n      <td>AQS Data Mart</td>\n    </tr>\n    <tr>\n      <th>740</th>\n      <td>44</td>\n      <td>7</td>\n      <td>22</td>\n      <td>61107</td>\n      <td>1</td>\n      <td>41.807469</td>\n      <td>-71.412968</td>\n      <td>NAD83</td>\n      <td>Std Dev Vt Wind Direction</td>\n      <td>1 HOUR</td>\n      <td>...</td>\n      <td>.</td>\n      <td>Y</td>\n      <td>NaN</td>\n      <td>Rhode Island</td>\n      <td>Providence</td>\n      <td>Providence</td>\n      <td>CCRI Liston Campus ROOFTOP</td>\n      <td>1 Hilton St, PROVIDENCE RI</td>\n      <td>Providence-Warwick, RI-MA</td>\n      <td>AQS Data Mart</td>\n    </tr>\n    <tr>\n      <th>741</th>\n      <td>44</td>\n      <td>7</td>\n      <td>22</td>\n      <td>61103</td>\n      <td>1</td>\n      <td>41.807469</td>\n      <td>-71.412968</td>\n      <td>NAD83</td>\n      <td>Wind Speed - Resultant</td>\n      <td>1 HOUR</td>\n      <td>...</td>\n      <td>.</td>\n      <td>Y</td>\n      <td>NaN</td>\n      <td>Rhode Island</td>\n      <td>Providence</td>\n      <td>Providence</td>\n      <td>CCRI Liston Campus ROOFTOP</td>\n      <td>1 Hilton St, PROVIDENCE RI</td>\n      <td>Providence-Warwick, RI-MA</td>\n      <td>AQS Data Mart</td>\n    </tr>\n    <tr>\n      <th>742</th>\n      <td>44</td>\n      <td>7</td>\n      <td>22</td>\n      <td>61104</td>\n      <td>1</td>\n      <td>41.807469</td>\n      <td>-71.412968</td>\n      <td>NAD83</td>\n      <td>Wind Direction - Resultant</td>\n      <td>1 HOUR</td>\n      <td>...</td>\n      <td>.</td>\n      <td>Y</td>\n      <td>NaN</td>\n      <td>Rhode Island</td>\n      <td>Providence</td>\n      <td>Providence</td>\n      <td>CCRI Liston Campus ROOFTOP</td>\n      <td>1 Hilton St, PROVIDENCE RI</td>\n      <td>Providence-Warwick, RI-MA</td>\n      <td>AQS Data Mart</td>\n    </tr>\n  </tbody>\n</table>\n<p>5 rows × 34 columns</p>\n</div>"
     },
     "execution_count": 23,
     "metadata": {},
     "output_type": "execute_result"
    }
   ],
   "source": [
    "df_2022_01.tail()"
   ],
   "metadata": {
    "collapsed": false
   }
  },
  {
   "cell_type": "code",
   "execution_count": 24,
   "outputs": [
    {
     "data": {
      "text/plain": "(743, 34)"
     },
     "execution_count": 24,
     "metadata": {},
     "output_type": "execute_result"
    }
   ],
   "source": [
    "df_2022_01.shape"
   ],
   "metadata": {
    "collapsed": false
   }
  },
  {
   "cell_type": "code",
   "execution_count": 25,
   "outputs": [
    {
     "data": {
      "text/plain": "Index(['State Code', 'County Code', 'Site Number', 'Parameter Code', 'POC',\n       'Latitude', 'Longitude', 'Datum', 'Parameter Name',\n       'Duration Description', 'Pollutant Standard', 'Date (Local)', 'Year',\n       'Day In Year (Local)', 'Units of Measure', 'Exceptional Data Type',\n       'Nonreg Observation Count', 'Observation Count', 'Observation Percent',\n       'Nonreg Arithmetic Mean', 'Arithmetic Mean',\n       'Nonreg First Maximum Value', 'First Maximum Value',\n       'First Maximum Hour', 'AQI', 'Daily Criteria Indicator', 'Tribe Name',\n       'State Name', 'County Name', 'City Name', 'Local Site Name', 'Address',\n       'MSA or CBSA Name', 'Data Source'],\n      dtype='object')"
     },
     "execution_count": 25,
     "metadata": {},
     "output_type": "execute_result"
    }
   ],
   "source": [
    "df_2022_01.columns"
   ],
   "metadata": {
    "collapsed": false
   }
  },
  {
   "cell_type": "code",
   "execution_count": 26,
   "outputs": [
    {
     "name": "stdout",
     "output_type": "stream",
     "text": [
      "<class 'pandas.core.frame.DataFrame'>\n",
      "RangeIndex: 743 entries, 0 to 742\n",
      "Data columns (total 34 columns):\n",
      " #   Column                      Non-Null Count  Dtype  \n",
      "---  ------                      --------------  -----  \n",
      " 0   State Code                  743 non-null    int64  \n",
      " 1   County Code                 743 non-null    int64  \n",
      " 2   Site Number                 743 non-null    int64  \n",
      " 3   Parameter Code              743 non-null    int64  \n",
      " 4   POC                         743 non-null    int64  \n",
      " 5   Latitude                    743 non-null    float64\n",
      " 6   Longitude                   743 non-null    float64\n",
      " 7   Datum                       743 non-null    object \n",
      " 8   Parameter Name              743 non-null    object \n",
      " 9   Duration Description        743 non-null    object \n",
      " 10  Pollutant Standard          72 non-null     object \n",
      " 11  Date (Local)                743 non-null    object \n",
      " 12  Year                        743 non-null    int64  \n",
      " 13  Day In Year (Local)         743 non-null    int64  \n",
      " 14  Units of Measure            743 non-null    object \n",
      " 15  Exceptional Data Type       0 non-null      float64\n",
      " 16  Nonreg Observation Count    0 non-null      float64\n",
      " 17  Observation Count           743 non-null    int64  \n",
      " 18  Observation Percent         743 non-null    float64\n",
      " 19  Nonreg Arithmetic Mean      0 non-null      float64\n",
      " 20  Arithmetic Mean             743 non-null    float64\n",
      " 21  Nonreg First Maximum Value  0 non-null      float64\n",
      " 22  First Maximum Value         743 non-null    float64\n",
      " 23  First Maximum Hour          743 non-null    int64  \n",
      " 24  AQI                         743 non-null    object \n",
      " 25  Daily Criteria Indicator    743 non-null    object \n",
      " 26  Tribe Name                  0 non-null      float64\n",
      " 27  State Name                  743 non-null    object \n",
      " 28  County Name                 743 non-null    object \n",
      " 29  City Name                   743 non-null    object \n",
      " 30  Local Site Name             743 non-null    object \n",
      " 31  Address                     743 non-null    object \n",
      " 32  MSA or CBSA Name            743 non-null    object \n",
      " 33  Data Source                 743 non-null    object \n",
      "dtypes: float64(10), int64(9), object(15)\n",
      "memory usage: 197.5+ KB\n"
     ]
    }
   ],
   "source": [
    "df_2022_01.info()"
   ],
   "metadata": {
    "collapsed": false
   }
  },
  {
   "cell_type": "markdown",
   "source": [
    "<div class=\"alert alert-block alert-warning\">\n",
    "What is an \"object\" dtype?\n",
    "\n",
    "<b>Short Answer:</b> It is a column of string or mixed data types (e.g. string, ints, floats, etc). Typically object dtype columns from an imported CSV will be a column of strings.\n",
    "\n",
    "<b>Long Answer:</b>  Pandas was built upon the numpy package on its backend. Numpy can only store information in an array where each value is encoded in the same number of bytes. Because strings can be of variable length, they do not conform to the fixed byte requirement. Instead Pandas creates an object array with pointers to the strings and  the pointers are of equal byte size. This is similar for columns with mixtures of data types.\n",
    "</div>"
   ],
   "metadata": {
    "collapsed": false
   }
  },
  {
   "cell_type": "code",
   "execution_count": 27,
   "outputs": [
    {
     "data": {
      "text/plain": "    State Code  County Code  Site Number  Parameter Code  POC   Latitude   \n0           44            7           22           87101    1  41.807469  \\\n1           44            7           22           61107    1  41.807469   \n2           44            7           22           62101    1  41.807469   \n3           44            7           22           61104    1  41.807469   \n4           44            7           22           84313    1  41.807469   \n..         ...          ...          ...             ...  ...        ...   \n95          44            7           22           17149    6  41.807469   \n96          44            7           22           17204    6  41.807469   \n97          44            7           22           17151    6  41.807469   \n98          44            7           22           17150    6  41.807469   \n99          44            7           22           87101    1  41.807469   \n\n    Longitude  Year  Day In Year (Local)  Exceptional Data Type   \n0  -71.412968  2022                    1                    NaN  \\\n1  -71.412968  2022                    1                    NaN   \n2  -71.412968  2022                    1                    NaN   \n3  -71.412968  2022                    1                    NaN   \n4  -71.412968  2022                    1                    NaN   \n..        ...   ...                  ...                    ...   \n95 -71.412968  2022                    5                    NaN   \n96 -71.412968  2022                    5                    NaN   \n97 -71.412968  2022                    5                    NaN   \n98 -71.412968  2022                    5                    NaN   \n99 -71.412968  2022                    5                    NaN   \n\n    Nonreg Observation Count  Observation Count  Observation Percent   \n0                        NaN                 24                100.0  \\\n1                        NaN                 24                100.0   \n2                        NaN                 24                100.0   \n3                        NaN                 24                100.0   \n4                        NaN                 24                100.0   \n..                       ...                ...                  ...   \n95                       NaN                  1                100.0   \n96                       NaN                  1                100.0   \n97                       NaN                  1                100.0   \n98                       NaN                  1                100.0   \n99                       NaN                 24                100.0   \n\n    Nonreg Arithmetic Mean  Arithmetic Mean  Nonreg First Maximum Value   \n0                      NaN      7062.208333                         NaN  \\\n1                      NaN        17.166667                         NaN   \n2                      NaN        48.958333                         NaN   \n3                      NaN       140.791667                         NaN   \n4                      NaN         0.458333                         NaN   \n..                     ...              ...                         ...   \n95                     NaN         1.130000                         NaN   \n96                     NaN         0.845000                         NaN   \n97                     NaN         0.211000                         NaN   \n98                     NaN         3.910000                         NaN   \n99                     NaN     12847.583333                         NaN   \n\n    First Maximum Value  First Maximum Hour  Tribe Name  \n0             14300.000                  17         NaN  \n1                25.000                   7         NaN  \n2                54.000                  15         NaN  \n3               195.000                  15         NaN  \n4                 1.250                   1         NaN  \n..                  ...                 ...         ...  \n95                1.130                   0         NaN  \n96                0.845                   0         NaN  \n97                0.211                   0         NaN  \n98                3.910                   0         NaN  \n99            33800.000                   6         NaN  \n\n[100 rows x 19 columns]",
      "text/html": "<div>\n<style scoped>\n    .dataframe tbody tr th:only-of-type {\n        vertical-align: middle;\n    }\n\n    .dataframe tbody tr th {\n        vertical-align: top;\n    }\n\n    .dataframe thead th {\n        text-align: right;\n    }\n</style>\n<table border=\"1\" class=\"dataframe\">\n  <thead>\n    <tr style=\"text-align: right;\">\n      <th></th>\n      <th>State Code</th>\n      <th>County Code</th>\n      <th>Site Number</th>\n      <th>Parameter Code</th>\n      <th>POC</th>\n      <th>Latitude</th>\n      <th>Longitude</th>\n      <th>Year</th>\n      <th>Day In Year (Local)</th>\n      <th>Exceptional Data Type</th>\n      <th>Nonreg Observation Count</th>\n      <th>Observation Count</th>\n      <th>Observation Percent</th>\n      <th>Nonreg Arithmetic Mean</th>\n      <th>Arithmetic Mean</th>\n      <th>Nonreg First Maximum Value</th>\n      <th>First Maximum Value</th>\n      <th>First Maximum Hour</th>\n      <th>Tribe Name</th>\n    </tr>\n  </thead>\n  <tbody>\n    <tr>\n      <th>0</th>\n      <td>44</td>\n      <td>7</td>\n      <td>22</td>\n      <td>87101</td>\n      <td>1</td>\n      <td>41.807469</td>\n      <td>-71.412968</td>\n      <td>2022</td>\n      <td>1</td>\n      <td>NaN</td>\n      <td>NaN</td>\n      <td>24</td>\n      <td>100.0</td>\n      <td>NaN</td>\n      <td>7062.208333</td>\n      <td>NaN</td>\n      <td>14300.000</td>\n      <td>17</td>\n      <td>NaN</td>\n    </tr>\n    <tr>\n      <th>1</th>\n      <td>44</td>\n      <td>7</td>\n      <td>22</td>\n      <td>61107</td>\n      <td>1</td>\n      <td>41.807469</td>\n      <td>-71.412968</td>\n      <td>2022</td>\n      <td>1</td>\n      <td>NaN</td>\n      <td>NaN</td>\n      <td>24</td>\n      <td>100.0</td>\n      <td>NaN</td>\n      <td>17.166667</td>\n      <td>NaN</td>\n      <td>25.000</td>\n      <td>7</td>\n      <td>NaN</td>\n    </tr>\n    <tr>\n      <th>2</th>\n      <td>44</td>\n      <td>7</td>\n      <td>22</td>\n      <td>62101</td>\n      <td>1</td>\n      <td>41.807469</td>\n      <td>-71.412968</td>\n      <td>2022</td>\n      <td>1</td>\n      <td>NaN</td>\n      <td>NaN</td>\n      <td>24</td>\n      <td>100.0</td>\n      <td>NaN</td>\n      <td>48.958333</td>\n      <td>NaN</td>\n      <td>54.000</td>\n      <td>15</td>\n      <td>NaN</td>\n    </tr>\n    <tr>\n      <th>3</th>\n      <td>44</td>\n      <td>7</td>\n      <td>22</td>\n      <td>61104</td>\n      <td>1</td>\n      <td>41.807469</td>\n      <td>-71.412968</td>\n      <td>2022</td>\n      <td>1</td>\n      <td>NaN</td>\n      <td>NaN</td>\n      <td>24</td>\n      <td>100.0</td>\n      <td>NaN</td>\n      <td>140.791667</td>\n      <td>NaN</td>\n      <td>195.000</td>\n      <td>15</td>\n      <td>NaN</td>\n    </tr>\n    <tr>\n      <th>4</th>\n      <td>44</td>\n      <td>7</td>\n      <td>22</td>\n      <td>84313</td>\n      <td>1</td>\n      <td>41.807469</td>\n      <td>-71.412968</td>\n      <td>2022</td>\n      <td>1</td>\n      <td>NaN</td>\n      <td>NaN</td>\n      <td>24</td>\n      <td>100.0</td>\n      <td>NaN</td>\n      <td>0.458333</td>\n      <td>NaN</td>\n      <td>1.250</td>\n      <td>1</td>\n      <td>NaN</td>\n    </tr>\n    <tr>\n      <th>...</th>\n      <td>...</td>\n      <td>...</td>\n      <td>...</td>\n      <td>...</td>\n      <td>...</td>\n      <td>...</td>\n      <td>...</td>\n      <td>...</td>\n      <td>...</td>\n      <td>...</td>\n      <td>...</td>\n      <td>...</td>\n      <td>...</td>\n      <td>...</td>\n      <td>...</td>\n      <td>...</td>\n      <td>...</td>\n      <td>...</td>\n      <td>...</td>\n    </tr>\n    <tr>\n      <th>95</th>\n      <td>44</td>\n      <td>7</td>\n      <td>22</td>\n      <td>17149</td>\n      <td>6</td>\n      <td>41.807469</td>\n      <td>-71.412968</td>\n      <td>2022</td>\n      <td>5</td>\n      <td>NaN</td>\n      <td>NaN</td>\n      <td>1</td>\n      <td>100.0</td>\n      <td>NaN</td>\n      <td>1.130000</td>\n      <td>NaN</td>\n      <td>1.130</td>\n      <td>0</td>\n      <td>NaN</td>\n    </tr>\n    <tr>\n      <th>96</th>\n      <td>44</td>\n      <td>7</td>\n      <td>22</td>\n      <td>17204</td>\n      <td>6</td>\n      <td>41.807469</td>\n      <td>-71.412968</td>\n      <td>2022</td>\n      <td>5</td>\n      <td>NaN</td>\n      <td>NaN</td>\n      <td>1</td>\n      <td>100.0</td>\n      <td>NaN</td>\n      <td>0.845000</td>\n      <td>NaN</td>\n      <td>0.845</td>\n      <td>0</td>\n      <td>NaN</td>\n    </tr>\n    <tr>\n      <th>97</th>\n      <td>44</td>\n      <td>7</td>\n      <td>22</td>\n      <td>17151</td>\n      <td>6</td>\n      <td>41.807469</td>\n      <td>-71.412968</td>\n      <td>2022</td>\n      <td>5</td>\n      <td>NaN</td>\n      <td>NaN</td>\n      <td>1</td>\n      <td>100.0</td>\n      <td>NaN</td>\n      <td>0.211000</td>\n      <td>NaN</td>\n      <td>0.211</td>\n      <td>0</td>\n      <td>NaN</td>\n    </tr>\n    <tr>\n      <th>98</th>\n      <td>44</td>\n      <td>7</td>\n      <td>22</td>\n      <td>17150</td>\n      <td>6</td>\n      <td>41.807469</td>\n      <td>-71.412968</td>\n      <td>2022</td>\n      <td>5</td>\n      <td>NaN</td>\n      <td>NaN</td>\n      <td>1</td>\n      <td>100.0</td>\n      <td>NaN</td>\n      <td>3.910000</td>\n      <td>NaN</td>\n      <td>3.910</td>\n      <td>0</td>\n      <td>NaN</td>\n    </tr>\n    <tr>\n      <th>99</th>\n      <td>44</td>\n      <td>7</td>\n      <td>22</td>\n      <td>87101</td>\n      <td>1</td>\n      <td>41.807469</td>\n      <td>-71.412968</td>\n      <td>2022</td>\n      <td>5</td>\n      <td>NaN</td>\n      <td>NaN</td>\n      <td>24</td>\n      <td>100.0</td>\n      <td>NaN</td>\n      <td>12847.583333</td>\n      <td>NaN</td>\n      <td>33800.000</td>\n      <td>6</td>\n      <td>NaN</td>\n    </tr>\n  </tbody>\n</table>\n<p>100 rows × 19 columns</p>\n</div>"
     },
     "execution_count": 27,
     "metadata": {},
     "output_type": "execute_result"
    }
   ],
   "source": [
    "# Inspect Numerical Fields\n",
    "df_2022_01.select_dtypes(include=['int', 'float']).head(100)"
   ],
   "metadata": {
    "collapsed": false
   }
  },
  {
   "cell_type": "code",
   "execution_count": 28,
   "outputs": [
    {
     "data": {
      "text/plain": "    Datum                Parameter Name Duration Description   \n0   NAD83  Particle Number, Total Count               1 HOUR  \\\n1   NAD83     Std Dev Vt Wind Direction               1 HOUR   \n2   NAD83           Outdoor Temperature               1 HOUR   \n3   NAD83    Wind Direction - Resultant               1 HOUR   \n4   NAD83        Black carbon PM2.5 STP               1 HOUR   \n..    ...                           ...                  ...   \n95  NAD83            Fluorene (TSP) STP              24 HOUR   \n96  NAD83              Pyrene (TSP) STP              24 HOUR   \n97  NAD83          Anthracene (TSP) STP              24 HOUR   \n98  NAD83        Phenanthrene (TSP) STP              24 HOUR   \n99  NAD83  Particle Number, Total Count               1 HOUR   \n\n   Pollutant Standard Date (Local)               Units of Measure AQI   \n0                 NaN   2022-01-01                 Count per cm^3   .  \\\n1                 NaN   2022-01-01                Degrees Compass   .   \n2                 NaN   2022-01-01             Degrees Fahrenheit   .   \n3                 NaN   2022-01-01                Degrees Compass   .   \n4                 NaN   2022-01-01  Micrograms/cubic meter (25 C)   .   \n..                ...          ...                            ...  ..   \n95                NaN   2022-01-05   Nanograms/cubic meter (25 C)   .   \n96                NaN   2022-01-05   Nanograms/cubic meter (25 C)   .   \n97                NaN   2022-01-05   Nanograms/cubic meter (25 C)   .   \n98                NaN   2022-01-05   Nanograms/cubic meter (25 C)   .   \n99                NaN   2022-01-05                 Count per cm^3   .   \n\n   Daily Criteria Indicator    State Name County Name   City Name   \n0                         Y  Rhode Island  Providence  Providence  \\\n1                         Y  Rhode Island  Providence  Providence   \n2                         Y  Rhode Island  Providence  Providence   \n3                         Y  Rhode Island  Providence  Providence   \n4                         Y  Rhode Island  Providence  Providence   \n..                      ...           ...         ...         ...   \n95                        Y  Rhode Island  Providence  Providence   \n96                        Y  Rhode Island  Providence  Providence   \n97                        Y  Rhode Island  Providence  Providence   \n98                        Y  Rhode Island  Providence  Providence   \n99                        Y  Rhode Island  Providence  Providence   \n\n               Local Site Name                     Address   \n0   CCRI Liston Campus ROOFTOP  1 Hilton St, PROVIDENCE RI  \\\n1   CCRI Liston Campus ROOFTOP  1 Hilton St, PROVIDENCE RI   \n2   CCRI Liston Campus ROOFTOP  1 Hilton St, PROVIDENCE RI   \n3   CCRI Liston Campus ROOFTOP  1 Hilton St, PROVIDENCE RI   \n4   CCRI Liston Campus ROOFTOP  1 Hilton St, PROVIDENCE RI   \n..                         ...                         ...   \n95  CCRI Liston Campus ROOFTOP  1 Hilton St, PROVIDENCE RI   \n96  CCRI Liston Campus ROOFTOP  1 Hilton St, PROVIDENCE RI   \n97  CCRI Liston Campus ROOFTOP  1 Hilton St, PROVIDENCE RI   \n98  CCRI Liston Campus ROOFTOP  1 Hilton St, PROVIDENCE RI   \n99  CCRI Liston Campus ROOFTOP  1 Hilton St, PROVIDENCE RI   \n\n             MSA or CBSA Name    Data Source  \n0   Providence-Warwick, RI-MA  AQS Data Mart  \n1   Providence-Warwick, RI-MA  AQS Data Mart  \n2   Providence-Warwick, RI-MA  AQS Data Mart  \n3   Providence-Warwick, RI-MA  AQS Data Mart  \n4   Providence-Warwick, RI-MA  AQS Data Mart  \n..                        ...            ...  \n95  Providence-Warwick, RI-MA  AQS Data Mart  \n96  Providence-Warwick, RI-MA  AQS Data Mart  \n97  Providence-Warwick, RI-MA  AQS Data Mart  \n98  Providence-Warwick, RI-MA  AQS Data Mart  \n99  Providence-Warwick, RI-MA  AQS Data Mart  \n\n[100 rows x 15 columns]",
      "text/html": "<div>\n<style scoped>\n    .dataframe tbody tr th:only-of-type {\n        vertical-align: middle;\n    }\n\n    .dataframe tbody tr th {\n        vertical-align: top;\n    }\n\n    .dataframe thead th {\n        text-align: right;\n    }\n</style>\n<table border=\"1\" class=\"dataframe\">\n  <thead>\n    <tr style=\"text-align: right;\">\n      <th></th>\n      <th>Datum</th>\n      <th>Parameter Name</th>\n      <th>Duration Description</th>\n      <th>Pollutant Standard</th>\n      <th>Date (Local)</th>\n      <th>Units of Measure</th>\n      <th>AQI</th>\n      <th>Daily Criteria Indicator</th>\n      <th>State Name</th>\n      <th>County Name</th>\n      <th>City Name</th>\n      <th>Local Site Name</th>\n      <th>Address</th>\n      <th>MSA or CBSA Name</th>\n      <th>Data Source</th>\n    </tr>\n  </thead>\n  <tbody>\n    <tr>\n      <th>0</th>\n      <td>NAD83</td>\n      <td>Particle Number, Total Count</td>\n      <td>1 HOUR</td>\n      <td>NaN</td>\n      <td>2022-01-01</td>\n      <td>Count per cm^3</td>\n      <td>.</td>\n      <td>Y</td>\n      <td>Rhode Island</td>\n      <td>Providence</td>\n      <td>Providence</td>\n      <td>CCRI Liston Campus ROOFTOP</td>\n      <td>1 Hilton St, PROVIDENCE RI</td>\n      <td>Providence-Warwick, RI-MA</td>\n      <td>AQS Data Mart</td>\n    </tr>\n    <tr>\n      <th>1</th>\n      <td>NAD83</td>\n      <td>Std Dev Vt Wind Direction</td>\n      <td>1 HOUR</td>\n      <td>NaN</td>\n      <td>2022-01-01</td>\n      <td>Degrees Compass</td>\n      <td>.</td>\n      <td>Y</td>\n      <td>Rhode Island</td>\n      <td>Providence</td>\n      <td>Providence</td>\n      <td>CCRI Liston Campus ROOFTOP</td>\n      <td>1 Hilton St, PROVIDENCE RI</td>\n      <td>Providence-Warwick, RI-MA</td>\n      <td>AQS Data Mart</td>\n    </tr>\n    <tr>\n      <th>2</th>\n      <td>NAD83</td>\n      <td>Outdoor Temperature</td>\n      <td>1 HOUR</td>\n      <td>NaN</td>\n      <td>2022-01-01</td>\n      <td>Degrees Fahrenheit</td>\n      <td>.</td>\n      <td>Y</td>\n      <td>Rhode Island</td>\n      <td>Providence</td>\n      <td>Providence</td>\n      <td>CCRI Liston Campus ROOFTOP</td>\n      <td>1 Hilton St, PROVIDENCE RI</td>\n      <td>Providence-Warwick, RI-MA</td>\n      <td>AQS Data Mart</td>\n    </tr>\n    <tr>\n      <th>3</th>\n      <td>NAD83</td>\n      <td>Wind Direction - Resultant</td>\n      <td>1 HOUR</td>\n      <td>NaN</td>\n      <td>2022-01-01</td>\n      <td>Degrees Compass</td>\n      <td>.</td>\n      <td>Y</td>\n      <td>Rhode Island</td>\n      <td>Providence</td>\n      <td>Providence</td>\n      <td>CCRI Liston Campus ROOFTOP</td>\n      <td>1 Hilton St, PROVIDENCE RI</td>\n      <td>Providence-Warwick, RI-MA</td>\n      <td>AQS Data Mart</td>\n    </tr>\n    <tr>\n      <th>4</th>\n      <td>NAD83</td>\n      <td>Black carbon PM2.5 STP</td>\n      <td>1 HOUR</td>\n      <td>NaN</td>\n      <td>2022-01-01</td>\n      <td>Micrograms/cubic meter (25 C)</td>\n      <td>.</td>\n      <td>Y</td>\n      <td>Rhode Island</td>\n      <td>Providence</td>\n      <td>Providence</td>\n      <td>CCRI Liston Campus ROOFTOP</td>\n      <td>1 Hilton St, PROVIDENCE RI</td>\n      <td>Providence-Warwick, RI-MA</td>\n      <td>AQS Data Mart</td>\n    </tr>\n    <tr>\n      <th>...</th>\n      <td>...</td>\n      <td>...</td>\n      <td>...</td>\n      <td>...</td>\n      <td>...</td>\n      <td>...</td>\n      <td>...</td>\n      <td>...</td>\n      <td>...</td>\n      <td>...</td>\n      <td>...</td>\n      <td>...</td>\n      <td>...</td>\n      <td>...</td>\n      <td>...</td>\n    </tr>\n    <tr>\n      <th>95</th>\n      <td>NAD83</td>\n      <td>Fluorene (TSP) STP</td>\n      <td>24 HOUR</td>\n      <td>NaN</td>\n      <td>2022-01-05</td>\n      <td>Nanograms/cubic meter (25 C)</td>\n      <td>.</td>\n      <td>Y</td>\n      <td>Rhode Island</td>\n      <td>Providence</td>\n      <td>Providence</td>\n      <td>CCRI Liston Campus ROOFTOP</td>\n      <td>1 Hilton St, PROVIDENCE RI</td>\n      <td>Providence-Warwick, RI-MA</td>\n      <td>AQS Data Mart</td>\n    </tr>\n    <tr>\n      <th>96</th>\n      <td>NAD83</td>\n      <td>Pyrene (TSP) STP</td>\n      <td>24 HOUR</td>\n      <td>NaN</td>\n      <td>2022-01-05</td>\n      <td>Nanograms/cubic meter (25 C)</td>\n      <td>.</td>\n      <td>Y</td>\n      <td>Rhode Island</td>\n      <td>Providence</td>\n      <td>Providence</td>\n      <td>CCRI Liston Campus ROOFTOP</td>\n      <td>1 Hilton St, PROVIDENCE RI</td>\n      <td>Providence-Warwick, RI-MA</td>\n      <td>AQS Data Mart</td>\n    </tr>\n    <tr>\n      <th>97</th>\n      <td>NAD83</td>\n      <td>Anthracene (TSP) STP</td>\n      <td>24 HOUR</td>\n      <td>NaN</td>\n      <td>2022-01-05</td>\n      <td>Nanograms/cubic meter (25 C)</td>\n      <td>.</td>\n      <td>Y</td>\n      <td>Rhode Island</td>\n      <td>Providence</td>\n      <td>Providence</td>\n      <td>CCRI Liston Campus ROOFTOP</td>\n      <td>1 Hilton St, PROVIDENCE RI</td>\n      <td>Providence-Warwick, RI-MA</td>\n      <td>AQS Data Mart</td>\n    </tr>\n    <tr>\n      <th>98</th>\n      <td>NAD83</td>\n      <td>Phenanthrene (TSP) STP</td>\n      <td>24 HOUR</td>\n      <td>NaN</td>\n      <td>2022-01-05</td>\n      <td>Nanograms/cubic meter (25 C)</td>\n      <td>.</td>\n      <td>Y</td>\n      <td>Rhode Island</td>\n      <td>Providence</td>\n      <td>Providence</td>\n      <td>CCRI Liston Campus ROOFTOP</td>\n      <td>1 Hilton St, PROVIDENCE RI</td>\n      <td>Providence-Warwick, RI-MA</td>\n      <td>AQS Data Mart</td>\n    </tr>\n    <tr>\n      <th>99</th>\n      <td>NAD83</td>\n      <td>Particle Number, Total Count</td>\n      <td>1 HOUR</td>\n      <td>NaN</td>\n      <td>2022-01-05</td>\n      <td>Count per cm^3</td>\n      <td>.</td>\n      <td>Y</td>\n      <td>Rhode Island</td>\n      <td>Providence</td>\n      <td>Providence</td>\n      <td>CCRI Liston Campus ROOFTOP</td>\n      <td>1 Hilton St, PROVIDENCE RI</td>\n      <td>Providence-Warwick, RI-MA</td>\n      <td>AQS Data Mart</td>\n    </tr>\n  </tbody>\n</table>\n<p>100 rows × 15 columns</p>\n</div>"
     },
     "execution_count": 28,
     "metadata": {},
     "output_type": "execute_result"
    }
   ],
   "source": [
    "# Inspect Object fields\n",
    "df_2022_01.select_dtypes(include='object').head(100)"
   ],
   "metadata": {
    "collapsed": false
   }
  },
  {
   "cell_type": "markdown",
   "source": [
    "**Back to our questions:**\n",
    "\n",
    "1. Did it import correctly?\n",
    "2. What does the table look like? Number of rows? Columns?\n",
    "3. Do we need all the data we are importing?\n",
    "4. Is the data in the correct format?\n",
    "\n",
    "* There are many columns we could drop because they all have the same value such as: \"Local Site Name\" and \"Address\". We know we are only working with one site for this analysis so these columns don't provide much value. These columns are long string fields that take up more memory. Dropping them would improve performance if this dataset gets really large.\n",
    "* The date would be more useful as a datetime data type rather than as string. This will allow for filtering by time and other useful datetime operations.\n",
    "\n",
    "We can supply additional arguments to the `read_csv` function to handle these specifications."
   ],
   "metadata": {
    "collapsed": false
   }
  },
  {
   "cell_type": "code",
   "execution_count": 29,
   "outputs": [
    {
     "data": {
      "text/plain": "   Parameter Code  POC                Parameter Name Duration Description   \n0           87101    1  Particle Number, Total Count               1 HOUR  \\\n1           61107    1     Std Dev Vt Wind Direction               1 HOUR   \n2           62101    1           Outdoor Temperature               1 HOUR   \n3           61104    1    Wind Direction - Resultant               1 HOUR   \n4           84313    1        Black carbon PM2.5 STP               1 HOUR   \n\n  Pollutant Standard Date (Local)  Year  Day In Year (Local)   \n0                NaN   2022-01-01  2022                    1  \\\n1                NaN   2022-01-01  2022                    1   \n2                NaN   2022-01-01  2022                    1   \n3                NaN   2022-01-01  2022                    1   \n4                NaN   2022-01-01  2022                    1   \n\n                Units of Measure  Exceptional Data Type  Observation Count   \n0                 Count per cm^3                    NaN                 24  \\\n1                Degrees Compass                    NaN                 24   \n2             Degrees Fahrenheit                    NaN                 24   \n3                Degrees Compass                    NaN                 24   \n4  Micrograms/cubic meter (25 C)                    NaN                 24   \n\n   Observation Percent  Arithmetic Mean  First Maximum Value   \n0                100.0      7062.208333             14300.00  \\\n1                100.0        17.166667                25.00   \n2                100.0        48.958333                54.00   \n3                100.0       140.791667               195.00   \n4                100.0         0.458333                 1.25   \n\n   First Maximum Hour AQI Daily Criteria Indicator  \n0                  17   .                        Y  \n1                   7   .                        Y  \n2                  15   .                        Y  \n3                  15   .                        Y  \n4                   1   .                        Y  ",
      "text/html": "<div>\n<style scoped>\n    .dataframe tbody tr th:only-of-type {\n        vertical-align: middle;\n    }\n\n    .dataframe tbody tr th {\n        vertical-align: top;\n    }\n\n    .dataframe thead th {\n        text-align: right;\n    }\n</style>\n<table border=\"1\" class=\"dataframe\">\n  <thead>\n    <tr style=\"text-align: right;\">\n      <th></th>\n      <th>Parameter Code</th>\n      <th>POC</th>\n      <th>Parameter Name</th>\n      <th>Duration Description</th>\n      <th>Pollutant Standard</th>\n      <th>Date (Local)</th>\n      <th>Year</th>\n      <th>Day In Year (Local)</th>\n      <th>Units of Measure</th>\n      <th>Exceptional Data Type</th>\n      <th>Observation Count</th>\n      <th>Observation Percent</th>\n      <th>Arithmetic Mean</th>\n      <th>First Maximum Value</th>\n      <th>First Maximum Hour</th>\n      <th>AQI</th>\n      <th>Daily Criteria Indicator</th>\n    </tr>\n  </thead>\n  <tbody>\n    <tr>\n      <th>0</th>\n      <td>87101</td>\n      <td>1</td>\n      <td>Particle Number, Total Count</td>\n      <td>1 HOUR</td>\n      <td>NaN</td>\n      <td>2022-01-01</td>\n      <td>2022</td>\n      <td>1</td>\n      <td>Count per cm^3</td>\n      <td>NaN</td>\n      <td>24</td>\n      <td>100.0</td>\n      <td>7062.208333</td>\n      <td>14300.00</td>\n      <td>17</td>\n      <td>.</td>\n      <td>Y</td>\n    </tr>\n    <tr>\n      <th>1</th>\n      <td>61107</td>\n      <td>1</td>\n      <td>Std Dev Vt Wind Direction</td>\n      <td>1 HOUR</td>\n      <td>NaN</td>\n      <td>2022-01-01</td>\n      <td>2022</td>\n      <td>1</td>\n      <td>Degrees Compass</td>\n      <td>NaN</td>\n      <td>24</td>\n      <td>100.0</td>\n      <td>17.166667</td>\n      <td>25.00</td>\n      <td>7</td>\n      <td>.</td>\n      <td>Y</td>\n    </tr>\n    <tr>\n      <th>2</th>\n      <td>62101</td>\n      <td>1</td>\n      <td>Outdoor Temperature</td>\n      <td>1 HOUR</td>\n      <td>NaN</td>\n      <td>2022-01-01</td>\n      <td>2022</td>\n      <td>1</td>\n      <td>Degrees Fahrenheit</td>\n      <td>NaN</td>\n      <td>24</td>\n      <td>100.0</td>\n      <td>48.958333</td>\n      <td>54.00</td>\n      <td>15</td>\n      <td>.</td>\n      <td>Y</td>\n    </tr>\n    <tr>\n      <th>3</th>\n      <td>61104</td>\n      <td>1</td>\n      <td>Wind Direction - Resultant</td>\n      <td>1 HOUR</td>\n      <td>NaN</td>\n      <td>2022-01-01</td>\n      <td>2022</td>\n      <td>1</td>\n      <td>Degrees Compass</td>\n      <td>NaN</td>\n      <td>24</td>\n      <td>100.0</td>\n      <td>140.791667</td>\n      <td>195.00</td>\n      <td>15</td>\n      <td>.</td>\n      <td>Y</td>\n    </tr>\n    <tr>\n      <th>4</th>\n      <td>84313</td>\n      <td>1</td>\n      <td>Black carbon PM2.5 STP</td>\n      <td>1 HOUR</td>\n      <td>NaN</td>\n      <td>2022-01-01</td>\n      <td>2022</td>\n      <td>1</td>\n      <td>Micrograms/cubic meter (25 C)</td>\n      <td>NaN</td>\n      <td>24</td>\n      <td>100.0</td>\n      <td>0.458333</td>\n      <td>1.25</td>\n      <td>1</td>\n      <td>.</td>\n      <td>Y</td>\n    </tr>\n  </tbody>\n</table>\n</div>"
     },
     "execution_count": 29,
     "metadata": {},
     "output_type": "execute_result"
    }
   ],
   "source": [
    "# Create a list of the columns we wish to keep\n",
    "keep_cols = ['Parameter Code', 'POC', 'Parameter Name', 'Duration Description',\n",
    "             'Pollutant Standard',\n",
    "             'Date (Local)', 'Year', 'Day In Year (Local)', 'Units of Measure',\n",
    "             'Exceptional Data Type',\n",
    "             'Observation Count', 'Observation Percent', 'Arithmetic Mean', 'First Maximum Value',\n",
    "             'First Maximum Hour', 'AQI', 'Daily Criteria Indicator', ]\n",
    "\n",
    "# Read in the csv with additional arguments\n",
    "df_2022_01_curated = pd.read_csv(path_to_monthly_data / 'daily_44_007_0022_2022_01.csv',\n",
    "                                 usecols=keep_cols,  # Specify columns to keep\n",
    "                                 parse_dates=['Date (Local)'],  # Specify column to parse as a date instead of string\n",
    "                                 date_format='%Y-%m-%d',  # Specify the format of date strings\n",
    "                                 )\n",
    "df_2022_01_curated.head()"
   ],
   "metadata": {
    "collapsed": false
   }
  },
  {
   "cell_type": "code",
   "execution_count": 30,
   "outputs": [
    {
     "name": "stdout",
     "output_type": "stream",
     "text": [
      "<class 'pandas.core.frame.DataFrame'>\n",
      "RangeIndex: 743 entries, 0 to 742\n",
      "Data columns (total 17 columns):\n",
      " #   Column                    Non-Null Count  Dtype         \n",
      "---  ------                    --------------  -----         \n",
      " 0   Parameter Code            743 non-null    int64         \n",
      " 1   POC                       743 non-null    int64         \n",
      " 2   Parameter Name            743 non-null    object        \n",
      " 3   Duration Description      743 non-null    object        \n",
      " 4   Pollutant Standard        72 non-null     object        \n",
      " 5   Date (Local)              743 non-null    datetime64[ns]\n",
      " 6   Year                      743 non-null    int64         \n",
      " 7   Day In Year (Local)       743 non-null    int64         \n",
      " 8   Units of Measure          743 non-null    object        \n",
      " 9   Exceptional Data Type     0 non-null      float64       \n",
      " 10  Observation Count         743 non-null    int64         \n",
      " 11  Observation Percent       743 non-null    float64       \n",
      " 12  Arithmetic Mean           743 non-null    float64       \n",
      " 13  First Maximum Value       743 non-null    float64       \n",
      " 14  First Maximum Hour        743 non-null    int64         \n",
      " 15  AQI                       743 non-null    object        \n",
      " 16  Daily Criteria Indicator  743 non-null    object        \n",
      "dtypes: datetime64[ns](1), float64(4), int64(6), object(6)\n",
      "memory usage: 98.8+ KB\n"
     ]
    }
   ],
   "source": [
    "df_2022_01_curated.info()"
   ],
   "metadata": {
    "collapsed": false
   }
  },
  {
   "cell_type": "markdown",
   "source": [
    "Great! We've cut down the number of columns and converted the date field to a datetime format!\n",
    "Next lets see how we can add more data from other files."
   ],
   "metadata": {
    "collapsed": false
   }
  },
  {
   "cell_type": "markdown",
   "source": [
    "## 3. Concatenation\n",
    "So far we've worked with one month's worth of data. Let's see how we can combine DataFrames together.\n",
    "\n",
    "We will be using the [`pd.concat`](https://pandas.pydata.org/docs/reference/api/pandas.concat.html) function to combine two or more DataFrames.\n"
   ],
   "metadata": {
    "collapsed": false
   }
  },
  {
   "cell_type": "code",
   "execution_count": 31,
   "outputs": [
    {
     "data": {
      "text/plain": "   Parameter Code  POC                Parameter Name Duration Description   \n0           87101    1  Particle Number, Total Count               1 HOUR  \\\n1           61107    1     Std Dev Vt Wind Direction               1 HOUR   \n2           62101    1           Outdoor Temperature               1 HOUR   \n3           61104    1    Wind Direction - Resultant               1 HOUR   \n4           84313    1        Black carbon PM2.5 STP               1 HOUR   \n\n  Pollutant Standard Date (Local)  Year  Day In Year (Local)   \n0                NaN   2022-01-01  2022                    1  \\\n1                NaN   2022-01-01  2022                    1   \n2                NaN   2022-01-01  2022                    1   \n3                NaN   2022-01-01  2022                    1   \n4                NaN   2022-01-01  2022                    1   \n\n                Units of Measure  Exceptional Data Type  Observation Count   \n0                 Count per cm^3                    NaN                 24  \\\n1                Degrees Compass                    NaN                 24   \n2             Degrees Fahrenheit                    NaN                 24   \n3                Degrees Compass                    NaN                 24   \n4  Micrograms/cubic meter (25 C)                    NaN                 24   \n\n   Observation Percent  Arithmetic Mean  First Maximum Value   \n0                100.0      7062.208333             14300.00  \\\n1                100.0        17.166667                25.00   \n2                100.0        48.958333                54.00   \n3                100.0       140.791667               195.00   \n4                100.0         0.458333                 1.25   \n\n   First Maximum Hour AQI Daily Criteria Indicator  \n0                  17   .                        Y  \n1                   7   .                        Y  \n2                  15   .                        Y  \n3                  15   .                        Y  \n4                   1   .                        Y  ",
      "text/html": "<div>\n<style scoped>\n    .dataframe tbody tr th:only-of-type {\n        vertical-align: middle;\n    }\n\n    .dataframe tbody tr th {\n        vertical-align: top;\n    }\n\n    .dataframe thead th {\n        text-align: right;\n    }\n</style>\n<table border=\"1\" class=\"dataframe\">\n  <thead>\n    <tr style=\"text-align: right;\">\n      <th></th>\n      <th>Parameter Code</th>\n      <th>POC</th>\n      <th>Parameter Name</th>\n      <th>Duration Description</th>\n      <th>Pollutant Standard</th>\n      <th>Date (Local)</th>\n      <th>Year</th>\n      <th>Day In Year (Local)</th>\n      <th>Units of Measure</th>\n      <th>Exceptional Data Type</th>\n      <th>Observation Count</th>\n      <th>Observation Percent</th>\n      <th>Arithmetic Mean</th>\n      <th>First Maximum Value</th>\n      <th>First Maximum Hour</th>\n      <th>AQI</th>\n      <th>Daily Criteria Indicator</th>\n    </tr>\n  </thead>\n  <tbody>\n    <tr>\n      <th>0</th>\n      <td>87101</td>\n      <td>1</td>\n      <td>Particle Number, Total Count</td>\n      <td>1 HOUR</td>\n      <td>NaN</td>\n      <td>2022-01-01</td>\n      <td>2022</td>\n      <td>1</td>\n      <td>Count per cm^3</td>\n      <td>NaN</td>\n      <td>24</td>\n      <td>100.0</td>\n      <td>7062.208333</td>\n      <td>14300.00</td>\n      <td>17</td>\n      <td>.</td>\n      <td>Y</td>\n    </tr>\n    <tr>\n      <th>1</th>\n      <td>61107</td>\n      <td>1</td>\n      <td>Std Dev Vt Wind Direction</td>\n      <td>1 HOUR</td>\n      <td>NaN</td>\n      <td>2022-01-01</td>\n      <td>2022</td>\n      <td>1</td>\n      <td>Degrees Compass</td>\n      <td>NaN</td>\n      <td>24</td>\n      <td>100.0</td>\n      <td>17.166667</td>\n      <td>25.00</td>\n      <td>7</td>\n      <td>.</td>\n      <td>Y</td>\n    </tr>\n    <tr>\n      <th>2</th>\n      <td>62101</td>\n      <td>1</td>\n      <td>Outdoor Temperature</td>\n      <td>1 HOUR</td>\n      <td>NaN</td>\n      <td>2022-01-01</td>\n      <td>2022</td>\n      <td>1</td>\n      <td>Degrees Fahrenheit</td>\n      <td>NaN</td>\n      <td>24</td>\n      <td>100.0</td>\n      <td>48.958333</td>\n      <td>54.00</td>\n      <td>15</td>\n      <td>.</td>\n      <td>Y</td>\n    </tr>\n    <tr>\n      <th>3</th>\n      <td>61104</td>\n      <td>1</td>\n      <td>Wind Direction - Resultant</td>\n      <td>1 HOUR</td>\n      <td>NaN</td>\n      <td>2022-01-01</td>\n      <td>2022</td>\n      <td>1</td>\n      <td>Degrees Compass</td>\n      <td>NaN</td>\n      <td>24</td>\n      <td>100.0</td>\n      <td>140.791667</td>\n      <td>195.00</td>\n      <td>15</td>\n      <td>.</td>\n      <td>Y</td>\n    </tr>\n    <tr>\n      <th>4</th>\n      <td>84313</td>\n      <td>1</td>\n      <td>Black carbon PM2.5 STP</td>\n      <td>1 HOUR</td>\n      <td>NaN</td>\n      <td>2022-01-01</td>\n      <td>2022</td>\n      <td>1</td>\n      <td>Micrograms/cubic meter (25 C)</td>\n      <td>NaN</td>\n      <td>24</td>\n      <td>100.0</td>\n      <td>0.458333</td>\n      <td>1.25</td>\n      <td>1</td>\n      <td>.</td>\n      <td>Y</td>\n    </tr>\n  </tbody>\n</table>\n</div>"
     },
     "execution_count": 31,
     "metadata": {},
     "output_type": "execute_result"
    }
   ],
   "source": [
    "# Read in February data\n",
    "df_2022_02_curated = pd.read_csv(path_to_monthly_data / 'daily_44_007_0022_2022_02.csv',\n",
    "                                 usecols=keep_cols,  # Specify columns to keep\n",
    "                                 parse_dates=['Date (Local)'],  # Specify column to parse as a date instead of string\n",
    "                                 date_format='%Y-%m-%d',  # Specify the format of date strings\n",
    "                                 )\n",
    "list_df_to_concat = [df_2022_01_curated, df_2022_02_curated]\n",
    "df_combined = pd.concat(list_df_to_concat)\n",
    "df_combined.head()"
   ],
   "metadata": {
    "collapsed": false
   }
  },
  {
   "cell_type": "code",
   "execution_count": 32,
   "outputs": [
    {
     "data": {
      "text/plain": "     Parameter Code  POC           Parameter Name Duration Description   \n694           43802    2          Dichloromethane              24 HOUR  \\\n695           43817    2      Tetrachloroethylene              24 HOUR   \n696           43824    2        Trichloroethylene              24 HOUR   \n697           45807    2      1,4-Dichlorobenzene              24 HOUR   \n698           43372    2  Methyl tert-butyl ether              24 HOUR   \n\n    Pollutant Standard Date (Local)  Year  Day In Year (Local)   \n694                NaN   2022-02-28  2022                   59  \\\n695                NaN   2022-02-28  2022                   59   \n696                NaN   2022-02-28  2022                   59   \n697                NaN   2022-02-28  2022                   59   \n698                NaN   2022-02-28  2022                   59   \n\n             Units of Measure  Exceptional Data Type  Observation Count   \n694  Parts per billion Carbon                    NaN                  1  \\\n695  Parts per billion Carbon                    NaN                  1   \n696  Parts per billion Carbon                    NaN                  1   \n697  Parts per billion Carbon                    NaN                  1   \n698  Parts per billion Carbon                    NaN                  1   \n\n     Observation Percent  Arithmetic Mean  First Maximum Value   \n694                100.0              0.1                  0.1  \\\n695                100.0              0.0                  0.0   \n696                100.0              0.0                  0.0   \n697                100.0              0.0                  0.0   \n698                100.0              0.0                  0.0   \n\n     First Maximum Hour AQI Daily Criteria Indicator  \n694                   0   .                        Y  \n695                   0   .                        Y  \n696                   0   .                        Y  \n697                   0   .                        Y  \n698                   0   .                        Y  ",
      "text/html": "<div>\n<style scoped>\n    .dataframe tbody tr th:only-of-type {\n        vertical-align: middle;\n    }\n\n    .dataframe tbody tr th {\n        vertical-align: top;\n    }\n\n    .dataframe thead th {\n        text-align: right;\n    }\n</style>\n<table border=\"1\" class=\"dataframe\">\n  <thead>\n    <tr style=\"text-align: right;\">\n      <th></th>\n      <th>Parameter Code</th>\n      <th>POC</th>\n      <th>Parameter Name</th>\n      <th>Duration Description</th>\n      <th>Pollutant Standard</th>\n      <th>Date (Local)</th>\n      <th>Year</th>\n      <th>Day In Year (Local)</th>\n      <th>Units of Measure</th>\n      <th>Exceptional Data Type</th>\n      <th>Observation Count</th>\n      <th>Observation Percent</th>\n      <th>Arithmetic Mean</th>\n      <th>First Maximum Value</th>\n      <th>First Maximum Hour</th>\n      <th>AQI</th>\n      <th>Daily Criteria Indicator</th>\n    </tr>\n  </thead>\n  <tbody>\n    <tr>\n      <th>694</th>\n      <td>43802</td>\n      <td>2</td>\n      <td>Dichloromethane</td>\n      <td>24 HOUR</td>\n      <td>NaN</td>\n      <td>2022-02-28</td>\n      <td>2022</td>\n      <td>59</td>\n      <td>Parts per billion Carbon</td>\n      <td>NaN</td>\n      <td>1</td>\n      <td>100.0</td>\n      <td>0.1</td>\n      <td>0.1</td>\n      <td>0</td>\n      <td>.</td>\n      <td>Y</td>\n    </tr>\n    <tr>\n      <th>695</th>\n      <td>43817</td>\n      <td>2</td>\n      <td>Tetrachloroethylene</td>\n      <td>24 HOUR</td>\n      <td>NaN</td>\n      <td>2022-02-28</td>\n      <td>2022</td>\n      <td>59</td>\n      <td>Parts per billion Carbon</td>\n      <td>NaN</td>\n      <td>1</td>\n      <td>100.0</td>\n      <td>0.0</td>\n      <td>0.0</td>\n      <td>0</td>\n      <td>.</td>\n      <td>Y</td>\n    </tr>\n    <tr>\n      <th>696</th>\n      <td>43824</td>\n      <td>2</td>\n      <td>Trichloroethylene</td>\n      <td>24 HOUR</td>\n      <td>NaN</td>\n      <td>2022-02-28</td>\n      <td>2022</td>\n      <td>59</td>\n      <td>Parts per billion Carbon</td>\n      <td>NaN</td>\n      <td>1</td>\n      <td>100.0</td>\n      <td>0.0</td>\n      <td>0.0</td>\n      <td>0</td>\n      <td>.</td>\n      <td>Y</td>\n    </tr>\n    <tr>\n      <th>697</th>\n      <td>45807</td>\n      <td>2</td>\n      <td>1,4-Dichlorobenzene</td>\n      <td>24 HOUR</td>\n      <td>NaN</td>\n      <td>2022-02-28</td>\n      <td>2022</td>\n      <td>59</td>\n      <td>Parts per billion Carbon</td>\n      <td>NaN</td>\n      <td>1</td>\n      <td>100.0</td>\n      <td>0.0</td>\n      <td>0.0</td>\n      <td>0</td>\n      <td>.</td>\n      <td>Y</td>\n    </tr>\n    <tr>\n      <th>698</th>\n      <td>43372</td>\n      <td>2</td>\n      <td>Methyl tert-butyl ether</td>\n      <td>24 HOUR</td>\n      <td>NaN</td>\n      <td>2022-02-28</td>\n      <td>2022</td>\n      <td>59</td>\n      <td>Parts per billion Carbon</td>\n      <td>NaN</td>\n      <td>1</td>\n      <td>100.0</td>\n      <td>0.0</td>\n      <td>0.0</td>\n      <td>0</td>\n      <td>.</td>\n      <td>Y</td>\n    </tr>\n  </tbody>\n</table>\n</div>"
     },
     "execution_count": 32,
     "metadata": {},
     "output_type": "execute_result"
    }
   ],
   "source": [
    "df_combined.tail()"
   ],
   "metadata": {
    "collapsed": false
   }
  },
  {
   "cell_type": "code",
   "execution_count": 33,
   "outputs": [
    {
     "data": {
      "text/plain": "    Duration Description Date (Local)  Arithmetic Mean  First Maximum Value   \n5          24-HR BLK AVG   2022-01-01         7.100000                  7.1  \\\n6          24-HR BLK AVG   2022-01-01         7.100000                  7.1   \n7                 1 HOUR   2022-01-01         7.125000                 38.0   \n14         24-HR BLK AVG   2022-01-02         3.100000                  3.1   \n15                1 HOUR   2022-01-02         3.166667                  7.0   \n..                   ...          ...              ...                  ...   \n724        24-HR BLK AVG   2022-01-30         5.100000                  5.1   \n732        24-HR BLK AVG   2022-01-30         5.100000                  5.1   \n735               1 HOUR   2022-01-31        15.000000                 36.0   \n736        24-HR BLK AVG   2022-01-31        15.000000                 15.0   \n737        24-HR BLK AVG   2022-01-31        15.000000                 15.0   \n\n     First Maximum Hour  \n5                     0  \n6                     0  \n7                     0  \n14                    0  \n15                   16  \n..                  ...  \n724                   0  \n732                   0  \n735                  22  \n736                   0  \n737                   0  \n\n[93 rows x 5 columns]",
      "text/html": "<div>\n<style scoped>\n    .dataframe tbody tr th:only-of-type {\n        vertical-align: middle;\n    }\n\n    .dataframe tbody tr th {\n        vertical-align: top;\n    }\n\n    .dataframe thead th {\n        text-align: right;\n    }\n</style>\n<table border=\"1\" class=\"dataframe\">\n  <thead>\n    <tr style=\"text-align: right;\">\n      <th></th>\n      <th>Duration Description</th>\n      <th>Date (Local)</th>\n      <th>Arithmetic Mean</th>\n      <th>First Maximum Value</th>\n      <th>First Maximum Hour</th>\n    </tr>\n  </thead>\n  <tbody>\n    <tr>\n      <th>5</th>\n      <td>24-HR BLK AVG</td>\n      <td>2022-01-01</td>\n      <td>7.100000</td>\n      <td>7.1</td>\n      <td>0</td>\n    </tr>\n    <tr>\n      <th>6</th>\n      <td>24-HR BLK AVG</td>\n      <td>2022-01-01</td>\n      <td>7.100000</td>\n      <td>7.1</td>\n      <td>0</td>\n    </tr>\n    <tr>\n      <th>7</th>\n      <td>1 HOUR</td>\n      <td>2022-01-01</td>\n      <td>7.125000</td>\n      <td>38.0</td>\n      <td>0</td>\n    </tr>\n    <tr>\n      <th>14</th>\n      <td>24-HR BLK AVG</td>\n      <td>2022-01-02</td>\n      <td>3.100000</td>\n      <td>3.1</td>\n      <td>0</td>\n    </tr>\n    <tr>\n      <th>15</th>\n      <td>1 HOUR</td>\n      <td>2022-01-02</td>\n      <td>3.166667</td>\n      <td>7.0</td>\n      <td>16</td>\n    </tr>\n    <tr>\n      <th>...</th>\n      <td>...</td>\n      <td>...</td>\n      <td>...</td>\n      <td>...</td>\n      <td>...</td>\n    </tr>\n    <tr>\n      <th>724</th>\n      <td>24-HR BLK AVG</td>\n      <td>2022-01-30</td>\n      <td>5.100000</td>\n      <td>5.1</td>\n      <td>0</td>\n    </tr>\n    <tr>\n      <th>732</th>\n      <td>24-HR BLK AVG</td>\n      <td>2022-01-30</td>\n      <td>5.100000</td>\n      <td>5.1</td>\n      <td>0</td>\n    </tr>\n    <tr>\n      <th>735</th>\n      <td>1 HOUR</td>\n      <td>2022-01-31</td>\n      <td>15.000000</td>\n      <td>36.0</td>\n      <td>22</td>\n    </tr>\n    <tr>\n      <th>736</th>\n      <td>24-HR BLK AVG</td>\n      <td>2022-01-31</td>\n      <td>15.000000</td>\n      <td>15.0</td>\n      <td>0</td>\n    </tr>\n    <tr>\n      <th>737</th>\n      <td>24-HR BLK AVG</td>\n      <td>2022-01-31</td>\n      <td>15.000000</td>\n      <td>15.0</td>\n      <td>0</td>\n    </tr>\n  </tbody>\n</table>\n<p>93 rows × 5 columns</p>\n</div>"
     },
     "execution_count": 33,
     "metadata": {},
     "output_type": "execute_result"
    }
   ],
   "source": [
    "df_2022_01_curated.query(\"`Parameter Code` == 88101\").filter(\n",
    "    ['Duration Description', 'Date (Local)', 'Arithmetic Mean', 'First Maximum Value',\n",
    "     'First Maximum Hour'])"
   ],
   "metadata": {
    "collapsed": false
   }
  },
  {
   "cell_type": "markdown",
   "source": [
    "Let's take a look at the online documentation for this function. [`pd.read_csv`](https://pandas.pydata.org/docs/reference/api/pandas.read_csv.html)\n",
    "\n",
    " At the top is the function call signature:\n",
    ">pandas.read_csv(filepath_or_buffer, *, sep=_NoDefault.no_default, delimiter=None, header='infer', ...)\n",
    "* This demonstrates how to use the function in code with all the available arguments.\n",
    "* There are two types of arguments: *Positional* and *Keyword*\n",
    "    1. **Positional arguments** are listed first. They are required and need to be specified in order. In this example there is only one, `filepath_or_buffer`.\n",
    "    2. **Keyword arguments** are listed after positional arguments and are optional. They have an `=` after the name to denote default values.\n",
    "\n",
    "    Positional arguments do not need to be specified by name while keyword arguments must be specified by name.\n",
    "    ```python\n",
    "    # Both of these calls are acceptable\n",
    "    pd.read_csv('data/raw/datafile.csv', sep=',')\n",
    "    pd.read_csv(filepath_or_buffer='data/raw/datafile.csv', sep=',')\n"
   ],
   "metadata": {
    "collapsed": false
   }
  }
 ],
 "metadata": {
  "kernelspec": {
   "display_name": "Python 3",
   "language": "python",
   "name": "python3"
  },
  "language_info": {
   "codemirror_mode": {
    "name": "ipython",
    "version": 2
   },
   "file_extension": ".py",
   "mimetype": "text/x-python",
   "name": "python",
   "nbconvert_exporter": "python",
   "pygments_lexer": "ipython2",
   "version": "2.7.6"
  }
 },
 "nbformat": 4,
 "nbformat_minor": 0
}
