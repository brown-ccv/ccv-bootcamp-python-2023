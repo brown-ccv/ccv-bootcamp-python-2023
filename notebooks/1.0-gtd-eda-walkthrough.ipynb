{
 "cells": [
  {
   "cell_type": "markdown",
   "source": [
    "## Importing libraries & packages\n",
    "Importing packages typically appears at the top of the file.\n",
    "* `import <package_name>` is the most basic command\n",
    "* The package can be imported with an alias to shorten verbosity. Common packages will often have a conventional alias.\n",
    "<blockquote>\n",
    "\n",
    "```python\n",
    "import pandas\n",
    "pandas.read_csv(path)\n",
    "\n",
    "# VS as an alias\n",
    "\n",
    "import pandas as pd\n",
    "pd.read_csv(path)\n",
    "```\n",
    "</blockquote>\n"
   ],
   "metadata": {
    "collapsed": false
   }
  },
  {
   "cell_type": "code",
   "execution_count": 8,
   "metadata": {
    "collapsed": true
   },
   "outputs": [],
   "source": [
    "import os  # Import standard library operating system package that deals with system diretory interfaces\n",
    "from pathlib import Path  # Import filesystem path package, for easier pathing to files and outputs\n",
    "import pandas as pd  # Import pandas library as an alias of 'pd'\n",
    "import matplotlib.pyplot as plt  # Import the sub-package pyplot from the matplotlib library as an alias of 'plt'\n",
    "\n",
    "# Magic command for jupyter notebook to generate figures within the notebook\n",
    "%matplotlib inline"
   ]
  },
  {
   "cell_type": "markdown",
   "source": [
    "## Data\n",
    "Today we will be using Providence, RI air quality data to demonstrate data exploratory data analysis techniques.\n",
    "\n",
    "The Rhode Island Department of Environmental Management (RIDEM) and Rhode Island Department of Health (RIDOH) collects air quality data at several sites across Rhode Island. We will be examining data from the Community of Rhode Island (CCRI) Liston Campus site.\n",
    "\n",
    "* The CCRI site is part of the EPA's *State or Local Air Monitoring Stations* (SLAMS) and *National Air Toxics Trends Sites* (NATTS) networks.\n",
    "* A variety of air pollutants (particulate matter (PM), volatile organic carbon (VOCs),  polycyclic aromatic hydrocarbons (PAHs), carbonyls, black carbon) have been monitored at this site since 2005.\n",
    "* The data was obtained from the Environmental Protection Agency (EPA) [Air Quality Data website](https://www.epa.gov/outdoor-air-quality-data).\n",
    "<div>\n",
    "<img src=\"images/aq-site-info.png\" width=\"400\"/>\n",
    "</div>\n",
    "\n",
    "We will use a subset of this data in the demonstrations below and give you a chance to work with a larger dataset during the hands-on lab.\n",
    "\n",
    "\n",
    "*Links*\n",
    "[EPA Air Quality Data Interactive Map](https://www.epa.gov/outdoor-air-quality-data/interactive-map-air-quality-monitors) - Data source\n",
    "[RIDEM 2022 Annual Monitoring Report](https://dem.ri.gov/sites/g/files/xkgbur861/files/2023-01/airnet22.pdf) - More information about the site and other monitoring locations across the state.\n",
    "\n"
   ],
   "metadata": {
    "collapsed": false
   }
  },
  {
   "cell_type": "markdown",
   "source": [
    "## Importing Tabular Data\n",
    "The pandas package reads tabular data into a data structure called a `DataFrame`. Some examples of read functions are below:\n",
    "\n",
    "* [`pd.read_csv`](https://pandas.pydata.org/docs/reference/api/pandas.read_csv.html) - Comma-delimited or other delimited files\n",
    "* [`pd.read_fwf`](https://pandas.pydata.org/docs/reference/api/pandas.read_fwf.html#) - Fixed width files\n",
    "* [`pd.read_excel`](https://pandas.pydata.org/docs/reference/api/pandas.read_excel.html) - Microsoft excel files\n",
    "* [`pd.read_sql`](https://pandas.pydata.org/docs/reference/api/pandas.read_sql.html) - SQL query or database table\n",
    "* See [pandas I/O documentation](https://pandas.pydata.org/docs/reference/io.html#input-output) for more examples\n",
    "\n",
    "Today we will be working with the `pd.read_csv()`. While this function defaults to read comma-delimited files, the function can be used on any delimited text file if provided the seperator as a keyword argument. Let's take a look at the online documentation for this function. [`pd.read_csv`](https://pandas.pydata.org/docs/reference/api/pandas.read_csv.html)\n",
    "\n",
    "At the top is the function call signature:\n",
    ">pandas.read_csv(filepath_or_buffer, *, sep=_NoDefault.no_default, delimiter=None, header='infer', ...)\n",
    "* This demonstrates how to use the function in code with all the available arguments.\n",
    "* There are two types of arguments: *Positional* and *Keyword*\n",
    "    1. **Positional arguments** are listed first. They are required and need to be specified in order. In this example there is only one, `filepath_or_buffer`.\n",
    "    2. **Keyword arguments** are listed after positional arguments and are optional. They have an `=` after the name to denote default values.\n",
    "\n",
    "    Positional arguments do not need to be specified by name while keyword arguments must be specified by name.\n",
    "    ```python\n",
    "    # Both of these calls are acceptable\n",
    "    pd.read_csv('data/raw/datafile.csv', sep=',')\n",
    "    pd.read_csv(filepath_or_buffer='data/raw/datafile.csv', sep=',')\n",
    "    ```\n",
    "\n",
    "Let's read in datafile. First we will set the path to the data."
   ],
   "metadata": {
    "collapsed": false
   }
  },
  {
   "cell_type": "code",
   "execution_count": 21,
   "outputs": [
    {
     "name": "stdout",
     "output_type": "stream",
     "text": [
      "The current working directory is where this notebook is located: /Users/gdang2/repos/ccv-bootcamp-python-2023/notebooks\n",
      "This is the the top level of the project: /Users/gdang2/repos/ccv-bootcamp-python-2023\n",
      "This is the monthly data directory: /Users/gdang2/repos/ccv-bootcamp-python-2023/data/raw/monthly\n"
     ]
    }
   ],
   "source": [
    "# Setting up the path to the data directory\n",
    "## We get our current working directory\n",
    "cwd = os.getcwd()\n",
    "print(f'The current working directory is where this notebook is located: {cwd}')\n",
    "\n",
    "## We use the Path library to move up one level to the top level of the project\n",
    "project_top = Path(cwd).parents[0]\n",
    "print(f'This is the the top level of the project: {project_top}')\n",
    "\n",
    "## We extend the path to the monthly data directory\n",
    "path_to_monthly_data = project_top.joinpath('data','raw','monthly')\n",
    "### Alternative syntax for extending path...\n",
    "path_to_monthly_data = project_top / 'data' / 'raw'/ 'monthly'\n",
    "print(f'This is the monthly data directory: {path_to_monthly_data}')"
   ],
   "metadata": {
    "collapsed": false
   }
  },
  {
   "cell_type": "markdown",
   "source": [
    "<div class=\"alert alert-block alert-info\">\n",
    "Note: Using the pathlib and Path object is highly reccomended because it standarizes pathing across operating systems. Path seperators are different between Unix (Mac & Linux) and Windows operating systems. Unix uses `/` whereas Windows uses `\\`. Avoiding hardcoding paths makes your code more universal.\n",
    "</div>"
   ],
   "metadata": {
    "collapsed": false
   }
  },
  {
   "cell_type": "markdown",
   "source": [
    "Let's read in one file. This will be data from the first month of 2022."
   ],
   "metadata": {
    "collapsed": false
   }
  },
  {
   "cell_type": "code",
   "execution_count": 34,
   "outputs": [
    {
     "data": {
      "text/plain": "   State Code  County Code  Site Number  Parameter Code  POC   Latitude   \n0          44            7           22           87101    1  41.807469  \\\n1          44            7           22           61107    1  41.807469   \n2          44            7           22           62101    1  41.807469   \n3          44            7           22           61104    1  41.807469   \n4          44            7           22           84313    1  41.807469   \n5          44            7           22           88101    3  41.807469   \n6          44            7           22           88101    3  41.807469   \n7          44            7           22           88101    3  41.807469   \n8          44            7           22           62201    1  41.807469   \n9          44            7           22           84313    1  41.807469   \n\n   Longitude  Datum                Parameter Name Duration Description  ...   \n0 -71.412968  NAD83  Particle Number, Total Count               1 HOUR  ...  \\\n1 -71.412968  NAD83     Std Dev Vt Wind Direction               1 HOUR  ...   \n2 -71.412968  NAD83           Outdoor Temperature               1 HOUR  ...   \n3 -71.412968  NAD83    Wind Direction - Resultant               1 HOUR  ...   \n4 -71.412968  NAD83        Black carbon PM2.5 STP               1 HOUR  ...   \n5 -71.412968  NAD83      PM2.5 - Local Conditions        24-HR BLK AVG  ...   \n6 -71.412968  NAD83      PM2.5 - Local Conditions        24-HR BLK AVG  ...   \n7 -71.412968  NAD83      PM2.5 - Local Conditions               1 HOUR  ...   \n8 -71.412968  NAD83             Relative Humidity               1 HOUR  ...   \n9 -71.412968  NAD83        Black carbon PM2.5 STP               1 HOUR  ...   \n\n  AQI Daily Criteria Indicator  Tribe Name    State Name County Name   \n0   .                        Y         NaN  Rhode Island  Providence  \\\n1   .                        Y         NaN  Rhode Island  Providence   \n2   .                        Y         NaN  Rhode Island  Providence   \n3   .                        Y         NaN  Rhode Island  Providence   \n4   .                        Y         NaN  Rhode Island  Providence   \n5  30                        Y         NaN  Rhode Island  Providence   \n6  30                        Y         NaN  Rhode Island  Providence   \n7   .                        Y         NaN  Rhode Island  Providence   \n8   .                        Y         NaN  Rhode Island  Providence   \n9   .                        Y         NaN  Rhode Island  Providence   \n\n    City Name             Local Site Name                     Address   \n0  Providence  CCRI Liston Campus ROOFTOP  1 Hilton St, PROVIDENCE RI  \\\n1  Providence  CCRI Liston Campus ROOFTOP  1 Hilton St, PROVIDENCE RI   \n2  Providence  CCRI Liston Campus ROOFTOP  1 Hilton St, PROVIDENCE RI   \n3  Providence  CCRI Liston Campus ROOFTOP  1 Hilton St, PROVIDENCE RI   \n4  Providence  CCRI Liston Campus ROOFTOP  1 Hilton St, PROVIDENCE RI   \n5  Providence  CCRI Liston Campus ROOFTOP  1 Hilton St, PROVIDENCE RI   \n6  Providence  CCRI Liston Campus ROOFTOP  1 Hilton St, PROVIDENCE RI   \n7  Providence  CCRI Liston Campus ROOFTOP  1 Hilton St, PROVIDENCE RI   \n8  Providence  CCRI Liston Campus ROOFTOP  1 Hilton St, PROVIDENCE RI   \n9  Providence  CCRI Liston Campus ROOFTOP  1 Hilton St, PROVIDENCE RI   \n\n            MSA or CBSA Name    Data Source  \n0  Providence-Warwick, RI-MA  AQS Data Mart  \n1  Providence-Warwick, RI-MA  AQS Data Mart  \n2  Providence-Warwick, RI-MA  AQS Data Mart  \n3  Providence-Warwick, RI-MA  AQS Data Mart  \n4  Providence-Warwick, RI-MA  AQS Data Mart  \n5  Providence-Warwick, RI-MA  AQS Data Mart  \n6  Providence-Warwick, RI-MA  AQS Data Mart  \n7  Providence-Warwick, RI-MA  AQS Data Mart  \n8  Providence-Warwick, RI-MA  AQS Data Mart  \n9  Providence-Warwick, RI-MA  AQS Data Mart  \n\n[10 rows x 34 columns]",
      "text/html": "<div>\n<style scoped>\n    .dataframe tbody tr th:only-of-type {\n        vertical-align: middle;\n    }\n\n    .dataframe tbody tr th {\n        vertical-align: top;\n    }\n\n    .dataframe thead th {\n        text-align: right;\n    }\n</style>\n<table border=\"1\" class=\"dataframe\">\n  <thead>\n    <tr style=\"text-align: right;\">\n      <th></th>\n      <th>State Code</th>\n      <th>County Code</th>\n      <th>Site Number</th>\n      <th>Parameter Code</th>\n      <th>POC</th>\n      <th>Latitude</th>\n      <th>Longitude</th>\n      <th>Datum</th>\n      <th>Parameter Name</th>\n      <th>Duration Description</th>\n      <th>...</th>\n      <th>AQI</th>\n      <th>Daily Criteria Indicator</th>\n      <th>Tribe Name</th>\n      <th>State Name</th>\n      <th>County Name</th>\n      <th>City Name</th>\n      <th>Local Site Name</th>\n      <th>Address</th>\n      <th>MSA or CBSA Name</th>\n      <th>Data Source</th>\n    </tr>\n  </thead>\n  <tbody>\n    <tr>\n      <th>0</th>\n      <td>44</td>\n      <td>7</td>\n      <td>22</td>\n      <td>87101</td>\n      <td>1</td>\n      <td>41.807469</td>\n      <td>-71.412968</td>\n      <td>NAD83</td>\n      <td>Particle Number, Total Count</td>\n      <td>1 HOUR</td>\n      <td>...</td>\n      <td>.</td>\n      <td>Y</td>\n      <td>NaN</td>\n      <td>Rhode Island</td>\n      <td>Providence</td>\n      <td>Providence</td>\n      <td>CCRI Liston Campus ROOFTOP</td>\n      <td>1 Hilton St, PROVIDENCE RI</td>\n      <td>Providence-Warwick, RI-MA</td>\n      <td>AQS Data Mart</td>\n    </tr>\n    <tr>\n      <th>1</th>\n      <td>44</td>\n      <td>7</td>\n      <td>22</td>\n      <td>61107</td>\n      <td>1</td>\n      <td>41.807469</td>\n      <td>-71.412968</td>\n      <td>NAD83</td>\n      <td>Std Dev Vt Wind Direction</td>\n      <td>1 HOUR</td>\n      <td>...</td>\n      <td>.</td>\n      <td>Y</td>\n      <td>NaN</td>\n      <td>Rhode Island</td>\n      <td>Providence</td>\n      <td>Providence</td>\n      <td>CCRI Liston Campus ROOFTOP</td>\n      <td>1 Hilton St, PROVIDENCE RI</td>\n      <td>Providence-Warwick, RI-MA</td>\n      <td>AQS Data Mart</td>\n    </tr>\n    <tr>\n      <th>2</th>\n      <td>44</td>\n      <td>7</td>\n      <td>22</td>\n      <td>62101</td>\n      <td>1</td>\n      <td>41.807469</td>\n      <td>-71.412968</td>\n      <td>NAD83</td>\n      <td>Outdoor Temperature</td>\n      <td>1 HOUR</td>\n      <td>...</td>\n      <td>.</td>\n      <td>Y</td>\n      <td>NaN</td>\n      <td>Rhode Island</td>\n      <td>Providence</td>\n      <td>Providence</td>\n      <td>CCRI Liston Campus ROOFTOP</td>\n      <td>1 Hilton St, PROVIDENCE RI</td>\n      <td>Providence-Warwick, RI-MA</td>\n      <td>AQS Data Mart</td>\n    </tr>\n    <tr>\n      <th>3</th>\n      <td>44</td>\n      <td>7</td>\n      <td>22</td>\n      <td>61104</td>\n      <td>1</td>\n      <td>41.807469</td>\n      <td>-71.412968</td>\n      <td>NAD83</td>\n      <td>Wind Direction - Resultant</td>\n      <td>1 HOUR</td>\n      <td>...</td>\n      <td>.</td>\n      <td>Y</td>\n      <td>NaN</td>\n      <td>Rhode Island</td>\n      <td>Providence</td>\n      <td>Providence</td>\n      <td>CCRI Liston Campus ROOFTOP</td>\n      <td>1 Hilton St, PROVIDENCE RI</td>\n      <td>Providence-Warwick, RI-MA</td>\n      <td>AQS Data Mart</td>\n    </tr>\n    <tr>\n      <th>4</th>\n      <td>44</td>\n      <td>7</td>\n      <td>22</td>\n      <td>84313</td>\n      <td>1</td>\n      <td>41.807469</td>\n      <td>-71.412968</td>\n      <td>NAD83</td>\n      <td>Black carbon PM2.5 STP</td>\n      <td>1 HOUR</td>\n      <td>...</td>\n      <td>.</td>\n      <td>Y</td>\n      <td>NaN</td>\n      <td>Rhode Island</td>\n      <td>Providence</td>\n      <td>Providence</td>\n      <td>CCRI Liston Campus ROOFTOP</td>\n      <td>1 Hilton St, PROVIDENCE RI</td>\n      <td>Providence-Warwick, RI-MA</td>\n      <td>AQS Data Mart</td>\n    </tr>\n    <tr>\n      <th>5</th>\n      <td>44</td>\n      <td>7</td>\n      <td>22</td>\n      <td>88101</td>\n      <td>3</td>\n      <td>41.807469</td>\n      <td>-71.412968</td>\n      <td>NAD83</td>\n      <td>PM2.5 - Local Conditions</td>\n      <td>24-HR BLK AVG</td>\n      <td>...</td>\n      <td>30</td>\n      <td>Y</td>\n      <td>NaN</td>\n      <td>Rhode Island</td>\n      <td>Providence</td>\n      <td>Providence</td>\n      <td>CCRI Liston Campus ROOFTOP</td>\n      <td>1 Hilton St, PROVIDENCE RI</td>\n      <td>Providence-Warwick, RI-MA</td>\n      <td>AQS Data Mart</td>\n    </tr>\n    <tr>\n      <th>6</th>\n      <td>44</td>\n      <td>7</td>\n      <td>22</td>\n      <td>88101</td>\n      <td>3</td>\n      <td>41.807469</td>\n      <td>-71.412968</td>\n      <td>NAD83</td>\n      <td>PM2.5 - Local Conditions</td>\n      <td>24-HR BLK AVG</td>\n      <td>...</td>\n      <td>30</td>\n      <td>Y</td>\n      <td>NaN</td>\n      <td>Rhode Island</td>\n      <td>Providence</td>\n      <td>Providence</td>\n      <td>CCRI Liston Campus ROOFTOP</td>\n      <td>1 Hilton St, PROVIDENCE RI</td>\n      <td>Providence-Warwick, RI-MA</td>\n      <td>AQS Data Mart</td>\n    </tr>\n    <tr>\n      <th>7</th>\n      <td>44</td>\n      <td>7</td>\n      <td>22</td>\n      <td>88101</td>\n      <td>3</td>\n      <td>41.807469</td>\n      <td>-71.412968</td>\n      <td>NAD83</td>\n      <td>PM2.5 - Local Conditions</td>\n      <td>1 HOUR</td>\n      <td>...</td>\n      <td>.</td>\n      <td>Y</td>\n      <td>NaN</td>\n      <td>Rhode Island</td>\n      <td>Providence</td>\n      <td>Providence</td>\n      <td>CCRI Liston Campus ROOFTOP</td>\n      <td>1 Hilton St, PROVIDENCE RI</td>\n      <td>Providence-Warwick, RI-MA</td>\n      <td>AQS Data Mart</td>\n    </tr>\n    <tr>\n      <th>8</th>\n      <td>44</td>\n      <td>7</td>\n      <td>22</td>\n      <td>62201</td>\n      <td>1</td>\n      <td>41.807469</td>\n      <td>-71.412968</td>\n      <td>NAD83</td>\n      <td>Relative Humidity</td>\n      <td>1 HOUR</td>\n      <td>...</td>\n      <td>.</td>\n      <td>Y</td>\n      <td>NaN</td>\n      <td>Rhode Island</td>\n      <td>Providence</td>\n      <td>Providence</td>\n      <td>CCRI Liston Campus ROOFTOP</td>\n      <td>1 Hilton St, PROVIDENCE RI</td>\n      <td>Providence-Warwick, RI-MA</td>\n      <td>AQS Data Mart</td>\n    </tr>\n    <tr>\n      <th>9</th>\n      <td>44</td>\n      <td>7</td>\n      <td>22</td>\n      <td>84313</td>\n      <td>1</td>\n      <td>41.807469</td>\n      <td>-71.412968</td>\n      <td>NAD83</td>\n      <td>Black carbon PM2.5 STP</td>\n      <td>1 HOUR</td>\n      <td>...</td>\n      <td>.</td>\n      <td>Y</td>\n      <td>NaN</td>\n      <td>Rhode Island</td>\n      <td>Providence</td>\n      <td>Providence</td>\n      <td>CCRI Liston Campus ROOFTOP</td>\n      <td>1 Hilton St, PROVIDENCE RI</td>\n      <td>Providence-Warwick, RI-MA</td>\n      <td>AQS Data Mart</td>\n    </tr>\n  </tbody>\n</table>\n<p>10 rows × 34 columns</p>\n</div>"
     },
     "execution_count": 34,
     "metadata": {},
     "output_type": "execute_result"
    }
   ],
   "source": [
    "# Save the DataFrame object to a variable\n",
    "df_2022_01 = pd.read_csv(path_to_monthly_data / 'daily_44_007_0022_2022_01.csv')\n",
    "df_2022_01.head(10) # show first 10 records"
   ],
   "metadata": {
    "collapsed": false
   }
  },
  {
   "cell_type": "markdown",
   "source": [
    "## Inspecting DataFrames\n",
    "Here are useful attributes of the dataframe\n",
    "* `.shape`:  Table dimensions\n",
    "* `.columns`:  Sequence of columns\n",
    "* `.index`:  Sequence of row indexes/labels\n",
    "* `.dtypes`: Data types by column\n",
    "\n",
    "Here are a few useful methods to inspect a dataframe:\n",
    "* `.head()`: Shows the first 5 rows--can change the number by supplying an integer.\n",
    "* `.tail()`: Shows the last 5 rows--can change the number by supplying an integer.\n",
    "* `.info()`: Combines several DataFrame attributes to one report.\n"
   ],
   "metadata": {
    "collapsed": false
   }
  },
  {
   "cell_type": "code",
   "execution_count": 44,
   "outputs": [
    {
     "data": {
      "text/plain": "(743, 34)"
     },
     "execution_count": 44,
     "metadata": {},
     "output_type": "execute_result"
    }
   ],
   "source": [
    "df_2022_01.shape"
   ],
   "metadata": {
    "collapsed": false
   }
  },
  {
   "cell_type": "code",
   "execution_count": 46,
   "outputs": [
    {
     "data": {
      "text/plain": "Index(['State Code', 'County Code', 'Site Number', 'Parameter Code', 'POC',\n       'Latitude', 'Longitude', 'Datum', 'Parameter Name',\n       'Duration Description', 'Pollutant Standard', 'Date (Local)', 'Year',\n       'Day In Year (Local)', 'Units of Measure', 'Exceptional Data Type',\n       'Nonreg Observation Count', 'Observation Count', 'Observation Percent',\n       'Nonreg Arithmetic Mean', 'Arithmetic Mean',\n       'Nonreg First Maximum Value', 'First Maximum Value',\n       'First Maximum Hour', 'AQI', 'Daily Criteria Indicator', 'Tribe Name',\n       'State Name', 'County Name', 'City Name', 'Local Site Name', 'Address',\n       'MSA or CBSA Name', 'Data Source'],\n      dtype='object')"
     },
     "execution_count": 46,
     "metadata": {},
     "output_type": "execute_result"
    }
   ],
   "source": [
    "df_2022_01.columns"
   ],
   "metadata": {
    "collapsed": false
   }
  },
  {
   "cell_type": "code",
   "execution_count": 36,
   "outputs": [
    {
     "name": "stdout",
     "output_type": "stream",
     "text": [
      "<class 'pandas.core.frame.DataFrame'>\n",
      "RangeIndex: 743 entries, 0 to 742\n",
      "Data columns (total 34 columns):\n",
      " #   Column                      Non-Null Count  Dtype  \n",
      "---  ------                      --------------  -----  \n",
      " 0   State Code                  743 non-null    int64  \n",
      " 1   County Code                 743 non-null    int64  \n",
      " 2   Site Number                 743 non-null    int64  \n",
      " 3   Parameter Code              743 non-null    int64  \n",
      " 4   POC                         743 non-null    int64  \n",
      " 5   Latitude                    743 non-null    float64\n",
      " 6   Longitude                   743 non-null    float64\n",
      " 7   Datum                       743 non-null    object \n",
      " 8   Parameter Name              743 non-null    object \n",
      " 9   Duration Description        743 non-null    object \n",
      " 10  Pollutant Standard          72 non-null     object \n",
      " 11  Date (Local)                743 non-null    object \n",
      " 12  Year                        743 non-null    int64  \n",
      " 13  Day In Year (Local)         743 non-null    int64  \n",
      " 14  Units of Measure            743 non-null    object \n",
      " 15  Exceptional Data Type       0 non-null      float64\n",
      " 16  Nonreg Observation Count    0 non-null      float64\n",
      " 17  Observation Count           743 non-null    int64  \n",
      " 18  Observation Percent         743 non-null    float64\n",
      " 19  Nonreg Arithmetic Mean      0 non-null      float64\n",
      " 20  Arithmetic Mean             743 non-null    float64\n",
      " 21  Nonreg First Maximum Value  0 non-null      float64\n",
      " 22  First Maximum Value         743 non-null    float64\n",
      " 23  First Maximum Hour          743 non-null    int64  \n",
      " 24  AQI                         743 non-null    object \n",
      " 25  Daily Criteria Indicator    743 non-null    object \n",
      " 26  Tribe Name                  0 non-null      float64\n",
      " 27  State Name                  743 non-null    object \n",
      " 28  County Name                 743 non-null    object \n",
      " 29  City Name                   743 non-null    object \n",
      " 30  Local Site Name             743 non-null    object \n",
      " 31  Address                     743 non-null    object \n",
      " 32  MSA or CBSA Name            743 non-null    object \n",
      " 33  Data Source                 743 non-null    object \n",
      "dtypes: float64(10), int64(9), object(15)\n",
      "memory usage: 197.5+ KB\n"
     ]
    }
   ],
   "source": [
    "df_2022_01.info()"
   ],
   "metadata": {
    "collapsed": false
   }
  },
  {
   "cell_type": "markdown",
   "source": [
    "<div class=\"alert alert-block alert-warning\">\n",
    "You might be asking: What is an \"object\" dtype?\n",
    "\n",
    "Short Answer: It is a column of string or mixed data types (e.g. string, ints, floats, etc).\n",
    "\n",
    "Long Answer: Pandas was built upon the numpy package on its backend. Numpy can only store information in an array where each value is encoded in the same number of bytes. Because strings can be of variable length, they do not conform to the fixed byte requirement. Instead Pandas creates an object array with pointers to the strings and  the pointers are of equal byte size. This is similar for columns with mixtures of data types.\n",
    "</div>"
   ],
   "metadata": {
    "collapsed": false
   }
  },
  {
   "cell_type": "code",
   "execution_count": 47,
   "outputs": [
    {
     "data": {
      "text/plain": "     State Code  County Code  Site Number  Parameter Code  POC   Latitude   \n0            44            7           22           87101    1  41.807469  \\\n1            44            7           22           61107    1  41.807469   \n2            44            7           22           62101    1  41.807469   \n3            44            7           22           61104    1  41.807469   \n4            44            7           22           84313    1  41.807469   \n..          ...          ...          ...             ...  ...        ...   \n738          44            7           22           62201    1  41.807469   \n739          44            7           22           84313    1  41.807469   \n740          44            7           22           61107    1  41.807469   \n741          44            7           22           61103    1  41.807469   \n742          44            7           22           61104    1  41.807469   \n\n     Longitude  Year  Day In Year (Local)  Exceptional Data Type   \n0   -71.412968  2022                    1                    NaN  \\\n1   -71.412968  2022                    1                    NaN   \n2   -71.412968  2022                    1                    NaN   \n3   -71.412968  2022                    1                    NaN   \n4   -71.412968  2022                    1                    NaN   \n..         ...   ...                  ...                    ...   \n738 -71.412968  2022                   31                    NaN   \n739 -71.412968  2022                   31                    NaN   \n740 -71.412968  2022                   31                    NaN   \n741 -71.412968  2022                   31                    NaN   \n742 -71.412968  2022                   31                    NaN   \n\n     Nonreg Observation Count  Observation Count  Observation Percent   \n0                         NaN                 24                100.0  \\\n1                         NaN                 24                100.0   \n2                         NaN                 24                100.0   \n3                         NaN                 24                100.0   \n4                         NaN                 24                100.0   \n..                        ...                ...                  ...   \n738                       NaN                 24                100.0   \n739                       NaN                 24                100.0   \n740                       NaN                 24                100.0   \n741                       NaN                 24                100.0   \n742                       NaN                 24                100.0   \n\n     Nonreg Arithmetic Mean  Arithmetic Mean  Nonreg First Maximum Value   \n0                       NaN      7062.208333                         NaN  \\\n1                       NaN        17.166667                         NaN   \n2                       NaN        48.958333                         NaN   \n3                       NaN       140.791667                         NaN   \n4                       NaN         0.458333                         NaN   \n..                      ...              ...                         ...   \n738                     NaN        67.416667                         NaN   \n739                     NaN         1.300833                         NaN   \n740                     NaN        16.583333                         NaN   \n741                     NaN         2.141667                         NaN   \n742                     NaN       212.416667                         NaN   \n\n     First Maximum Value  First Maximum Hour  Tribe Name  \n0               14300.00                  17         NaN  \n1                  25.00                   7         NaN  \n2                  54.00                  15         NaN  \n3                 195.00                  15         NaN  \n4                   1.25                   1         NaN  \n..                   ...                 ...         ...  \n738                95.00                   5         NaN  \n739                 3.76                  22         NaN  \n740                32.00                  13         NaN  \n741                 4.30                  14         NaN  \n742               315.00                  21         NaN  \n\n[743 rows x 19 columns]",
      "text/html": "<div>\n<style scoped>\n    .dataframe tbody tr th:only-of-type {\n        vertical-align: middle;\n    }\n\n    .dataframe tbody tr th {\n        vertical-align: top;\n    }\n\n    .dataframe thead th {\n        text-align: right;\n    }\n</style>\n<table border=\"1\" class=\"dataframe\">\n  <thead>\n    <tr style=\"text-align: right;\">\n      <th></th>\n      <th>State Code</th>\n      <th>County Code</th>\n      <th>Site Number</th>\n      <th>Parameter Code</th>\n      <th>POC</th>\n      <th>Latitude</th>\n      <th>Longitude</th>\n      <th>Year</th>\n      <th>Day In Year (Local)</th>\n      <th>Exceptional Data Type</th>\n      <th>Nonreg Observation Count</th>\n      <th>Observation Count</th>\n      <th>Observation Percent</th>\n      <th>Nonreg Arithmetic Mean</th>\n      <th>Arithmetic Mean</th>\n      <th>Nonreg First Maximum Value</th>\n      <th>First Maximum Value</th>\n      <th>First Maximum Hour</th>\n      <th>Tribe Name</th>\n    </tr>\n  </thead>\n  <tbody>\n    <tr>\n      <th>0</th>\n      <td>44</td>\n      <td>7</td>\n      <td>22</td>\n      <td>87101</td>\n      <td>1</td>\n      <td>41.807469</td>\n      <td>-71.412968</td>\n      <td>2022</td>\n      <td>1</td>\n      <td>NaN</td>\n      <td>NaN</td>\n      <td>24</td>\n      <td>100.0</td>\n      <td>NaN</td>\n      <td>7062.208333</td>\n      <td>NaN</td>\n      <td>14300.00</td>\n      <td>17</td>\n      <td>NaN</td>\n    </tr>\n    <tr>\n      <th>1</th>\n      <td>44</td>\n      <td>7</td>\n      <td>22</td>\n      <td>61107</td>\n      <td>1</td>\n      <td>41.807469</td>\n      <td>-71.412968</td>\n      <td>2022</td>\n      <td>1</td>\n      <td>NaN</td>\n      <td>NaN</td>\n      <td>24</td>\n      <td>100.0</td>\n      <td>NaN</td>\n      <td>17.166667</td>\n      <td>NaN</td>\n      <td>25.00</td>\n      <td>7</td>\n      <td>NaN</td>\n    </tr>\n    <tr>\n      <th>2</th>\n      <td>44</td>\n      <td>7</td>\n      <td>22</td>\n      <td>62101</td>\n      <td>1</td>\n      <td>41.807469</td>\n      <td>-71.412968</td>\n      <td>2022</td>\n      <td>1</td>\n      <td>NaN</td>\n      <td>NaN</td>\n      <td>24</td>\n      <td>100.0</td>\n      <td>NaN</td>\n      <td>48.958333</td>\n      <td>NaN</td>\n      <td>54.00</td>\n      <td>15</td>\n      <td>NaN</td>\n    </tr>\n    <tr>\n      <th>3</th>\n      <td>44</td>\n      <td>7</td>\n      <td>22</td>\n      <td>61104</td>\n      <td>1</td>\n      <td>41.807469</td>\n      <td>-71.412968</td>\n      <td>2022</td>\n      <td>1</td>\n      <td>NaN</td>\n      <td>NaN</td>\n      <td>24</td>\n      <td>100.0</td>\n      <td>NaN</td>\n      <td>140.791667</td>\n      <td>NaN</td>\n      <td>195.00</td>\n      <td>15</td>\n      <td>NaN</td>\n    </tr>\n    <tr>\n      <th>4</th>\n      <td>44</td>\n      <td>7</td>\n      <td>22</td>\n      <td>84313</td>\n      <td>1</td>\n      <td>41.807469</td>\n      <td>-71.412968</td>\n      <td>2022</td>\n      <td>1</td>\n      <td>NaN</td>\n      <td>NaN</td>\n      <td>24</td>\n      <td>100.0</td>\n      <td>NaN</td>\n      <td>0.458333</td>\n      <td>NaN</td>\n      <td>1.25</td>\n      <td>1</td>\n      <td>NaN</td>\n    </tr>\n    <tr>\n      <th>...</th>\n      <td>...</td>\n      <td>...</td>\n      <td>...</td>\n      <td>...</td>\n      <td>...</td>\n      <td>...</td>\n      <td>...</td>\n      <td>...</td>\n      <td>...</td>\n      <td>...</td>\n      <td>...</td>\n      <td>...</td>\n      <td>...</td>\n      <td>...</td>\n      <td>...</td>\n      <td>...</td>\n      <td>...</td>\n      <td>...</td>\n      <td>...</td>\n    </tr>\n    <tr>\n      <th>738</th>\n      <td>44</td>\n      <td>7</td>\n      <td>22</td>\n      <td>62201</td>\n      <td>1</td>\n      <td>41.807469</td>\n      <td>-71.412968</td>\n      <td>2022</td>\n      <td>31</td>\n      <td>NaN</td>\n      <td>NaN</td>\n      <td>24</td>\n      <td>100.0</td>\n      <td>NaN</td>\n      <td>67.416667</td>\n      <td>NaN</td>\n      <td>95.00</td>\n      <td>5</td>\n      <td>NaN</td>\n    </tr>\n    <tr>\n      <th>739</th>\n      <td>44</td>\n      <td>7</td>\n      <td>22</td>\n      <td>84313</td>\n      <td>1</td>\n      <td>41.807469</td>\n      <td>-71.412968</td>\n      <td>2022</td>\n      <td>31</td>\n      <td>NaN</td>\n      <td>NaN</td>\n      <td>24</td>\n      <td>100.0</td>\n      <td>NaN</td>\n      <td>1.300833</td>\n      <td>NaN</td>\n      <td>3.76</td>\n      <td>22</td>\n      <td>NaN</td>\n    </tr>\n    <tr>\n      <th>740</th>\n      <td>44</td>\n      <td>7</td>\n      <td>22</td>\n      <td>61107</td>\n      <td>1</td>\n      <td>41.807469</td>\n      <td>-71.412968</td>\n      <td>2022</td>\n      <td>31</td>\n      <td>NaN</td>\n      <td>NaN</td>\n      <td>24</td>\n      <td>100.0</td>\n      <td>NaN</td>\n      <td>16.583333</td>\n      <td>NaN</td>\n      <td>32.00</td>\n      <td>13</td>\n      <td>NaN</td>\n    </tr>\n    <tr>\n      <th>741</th>\n      <td>44</td>\n      <td>7</td>\n      <td>22</td>\n      <td>61103</td>\n      <td>1</td>\n      <td>41.807469</td>\n      <td>-71.412968</td>\n      <td>2022</td>\n      <td>31</td>\n      <td>NaN</td>\n      <td>NaN</td>\n      <td>24</td>\n      <td>100.0</td>\n      <td>NaN</td>\n      <td>2.141667</td>\n      <td>NaN</td>\n      <td>4.30</td>\n      <td>14</td>\n      <td>NaN</td>\n    </tr>\n    <tr>\n      <th>742</th>\n      <td>44</td>\n      <td>7</td>\n      <td>22</td>\n      <td>61104</td>\n      <td>1</td>\n      <td>41.807469</td>\n      <td>-71.412968</td>\n      <td>2022</td>\n      <td>31</td>\n      <td>NaN</td>\n      <td>NaN</td>\n      <td>24</td>\n      <td>100.0</td>\n      <td>NaN</td>\n      <td>212.416667</td>\n      <td>NaN</td>\n      <td>315.00</td>\n      <td>21</td>\n      <td>NaN</td>\n    </tr>\n  </tbody>\n</table>\n<p>743 rows × 19 columns</p>\n</div>"
     },
     "execution_count": 47,
     "metadata": {},
     "output_type": "execute_result"
    }
   ],
   "source": [
    "# Inspect Numerical Fields\n",
    "df_2022_01.select_dtypes(include=['int','float'])"
   ],
   "metadata": {
    "collapsed": false
   }
  },
  {
   "cell_type": "code",
   "execution_count": 50,
   "outputs": [
    {
     "data": {
      "text/plain": "     Datum                Parameter Name Duration Description   \n0    NAD83  Particle Number, Total Count               1 HOUR  \\\n1    NAD83     Std Dev Vt Wind Direction               1 HOUR   \n2    NAD83           Outdoor Temperature               1 HOUR   \n3    NAD83    Wind Direction - Resultant               1 HOUR   \n4    NAD83        Black carbon PM2.5 STP               1 HOUR   \n..     ...                           ...                  ...   \n738  NAD83             Relative Humidity               1 HOUR   \n739  NAD83        Black carbon PM2.5 STP               1 HOUR   \n740  NAD83     Std Dev Vt Wind Direction               1 HOUR   \n741  NAD83        Wind Speed - Resultant               1 HOUR   \n742  NAD83    Wind Direction - Resultant               1 HOUR   \n\n    Pollutant Standard Date (Local)               Units of Measure AQI   \n0                  NaN   2022-01-01                 Count per cm^3   .  \\\n1                  NaN   2022-01-01                Degrees Compass   .   \n2                  NaN   2022-01-01             Degrees Fahrenheit   .   \n3                  NaN   2022-01-01                Degrees Compass   .   \n4                  NaN   2022-01-01  Micrograms/cubic meter (25 C)   .   \n..                 ...          ...                            ...  ..   \n738                NaN   2022-01-31      Percent relative humidity   .   \n739                NaN   2022-01-31  Micrograms/cubic meter (25 C)   .   \n740                NaN   2022-01-31                Degrees Compass   .   \n741                NaN   2022-01-31                          Knots   .   \n742                NaN   2022-01-31                Degrees Compass   .   \n\n    Daily Criteria Indicator    State Name County Name   City Name   \n0                          Y  Rhode Island  Providence  Providence  \\\n1                          Y  Rhode Island  Providence  Providence   \n2                          Y  Rhode Island  Providence  Providence   \n3                          Y  Rhode Island  Providence  Providence   \n4                          Y  Rhode Island  Providence  Providence   \n..                       ...           ...         ...         ...   \n738                        Y  Rhode Island  Providence  Providence   \n739                        Y  Rhode Island  Providence  Providence   \n740                        Y  Rhode Island  Providence  Providence   \n741                        Y  Rhode Island  Providence  Providence   \n742                        Y  Rhode Island  Providence  Providence   \n\n                Local Site Name                     Address   \n0    CCRI Liston Campus ROOFTOP  1 Hilton St, PROVIDENCE RI  \\\n1    CCRI Liston Campus ROOFTOP  1 Hilton St, PROVIDENCE RI   \n2    CCRI Liston Campus ROOFTOP  1 Hilton St, PROVIDENCE RI   \n3    CCRI Liston Campus ROOFTOP  1 Hilton St, PROVIDENCE RI   \n4    CCRI Liston Campus ROOFTOP  1 Hilton St, PROVIDENCE RI   \n..                          ...                         ...   \n738  CCRI Liston Campus ROOFTOP  1 Hilton St, PROVIDENCE RI   \n739  CCRI Liston Campus ROOFTOP  1 Hilton St, PROVIDENCE RI   \n740  CCRI Liston Campus ROOFTOP  1 Hilton St, PROVIDENCE RI   \n741  CCRI Liston Campus ROOFTOP  1 Hilton St, PROVIDENCE RI   \n742  CCRI Liston Campus ROOFTOP  1 Hilton St, PROVIDENCE RI   \n\n              MSA or CBSA Name    Data Source  \n0    Providence-Warwick, RI-MA  AQS Data Mart  \n1    Providence-Warwick, RI-MA  AQS Data Mart  \n2    Providence-Warwick, RI-MA  AQS Data Mart  \n3    Providence-Warwick, RI-MA  AQS Data Mart  \n4    Providence-Warwick, RI-MA  AQS Data Mart  \n..                         ...            ...  \n738  Providence-Warwick, RI-MA  AQS Data Mart  \n739  Providence-Warwick, RI-MA  AQS Data Mart  \n740  Providence-Warwick, RI-MA  AQS Data Mart  \n741  Providence-Warwick, RI-MA  AQS Data Mart  \n742  Providence-Warwick, RI-MA  AQS Data Mart  \n\n[743 rows x 15 columns]",
      "text/html": "<div>\n<style scoped>\n    .dataframe tbody tr th:only-of-type {\n        vertical-align: middle;\n    }\n\n    .dataframe tbody tr th {\n        vertical-align: top;\n    }\n\n    .dataframe thead th {\n        text-align: right;\n    }\n</style>\n<table border=\"1\" class=\"dataframe\">\n  <thead>\n    <tr style=\"text-align: right;\">\n      <th></th>\n      <th>Datum</th>\n      <th>Parameter Name</th>\n      <th>Duration Description</th>\n      <th>Pollutant Standard</th>\n      <th>Date (Local)</th>\n      <th>Units of Measure</th>\n      <th>AQI</th>\n      <th>Daily Criteria Indicator</th>\n      <th>State Name</th>\n      <th>County Name</th>\n      <th>City Name</th>\n      <th>Local Site Name</th>\n      <th>Address</th>\n      <th>MSA or CBSA Name</th>\n      <th>Data Source</th>\n    </tr>\n  </thead>\n  <tbody>\n    <tr>\n      <th>0</th>\n      <td>NAD83</td>\n      <td>Particle Number, Total Count</td>\n      <td>1 HOUR</td>\n      <td>NaN</td>\n      <td>2022-01-01</td>\n      <td>Count per cm^3</td>\n      <td>.</td>\n      <td>Y</td>\n      <td>Rhode Island</td>\n      <td>Providence</td>\n      <td>Providence</td>\n      <td>CCRI Liston Campus ROOFTOP</td>\n      <td>1 Hilton St, PROVIDENCE RI</td>\n      <td>Providence-Warwick, RI-MA</td>\n      <td>AQS Data Mart</td>\n    </tr>\n    <tr>\n      <th>1</th>\n      <td>NAD83</td>\n      <td>Std Dev Vt Wind Direction</td>\n      <td>1 HOUR</td>\n      <td>NaN</td>\n      <td>2022-01-01</td>\n      <td>Degrees Compass</td>\n      <td>.</td>\n      <td>Y</td>\n      <td>Rhode Island</td>\n      <td>Providence</td>\n      <td>Providence</td>\n      <td>CCRI Liston Campus ROOFTOP</td>\n      <td>1 Hilton St, PROVIDENCE RI</td>\n      <td>Providence-Warwick, RI-MA</td>\n      <td>AQS Data Mart</td>\n    </tr>\n    <tr>\n      <th>2</th>\n      <td>NAD83</td>\n      <td>Outdoor Temperature</td>\n      <td>1 HOUR</td>\n      <td>NaN</td>\n      <td>2022-01-01</td>\n      <td>Degrees Fahrenheit</td>\n      <td>.</td>\n      <td>Y</td>\n      <td>Rhode Island</td>\n      <td>Providence</td>\n      <td>Providence</td>\n      <td>CCRI Liston Campus ROOFTOP</td>\n      <td>1 Hilton St, PROVIDENCE RI</td>\n      <td>Providence-Warwick, RI-MA</td>\n      <td>AQS Data Mart</td>\n    </tr>\n    <tr>\n      <th>3</th>\n      <td>NAD83</td>\n      <td>Wind Direction - Resultant</td>\n      <td>1 HOUR</td>\n      <td>NaN</td>\n      <td>2022-01-01</td>\n      <td>Degrees Compass</td>\n      <td>.</td>\n      <td>Y</td>\n      <td>Rhode Island</td>\n      <td>Providence</td>\n      <td>Providence</td>\n      <td>CCRI Liston Campus ROOFTOP</td>\n      <td>1 Hilton St, PROVIDENCE RI</td>\n      <td>Providence-Warwick, RI-MA</td>\n      <td>AQS Data Mart</td>\n    </tr>\n    <tr>\n      <th>4</th>\n      <td>NAD83</td>\n      <td>Black carbon PM2.5 STP</td>\n      <td>1 HOUR</td>\n      <td>NaN</td>\n      <td>2022-01-01</td>\n      <td>Micrograms/cubic meter (25 C)</td>\n      <td>.</td>\n      <td>Y</td>\n      <td>Rhode Island</td>\n      <td>Providence</td>\n      <td>Providence</td>\n      <td>CCRI Liston Campus ROOFTOP</td>\n      <td>1 Hilton St, PROVIDENCE RI</td>\n      <td>Providence-Warwick, RI-MA</td>\n      <td>AQS Data Mart</td>\n    </tr>\n    <tr>\n      <th>...</th>\n      <td>...</td>\n      <td>...</td>\n      <td>...</td>\n      <td>...</td>\n      <td>...</td>\n      <td>...</td>\n      <td>...</td>\n      <td>...</td>\n      <td>...</td>\n      <td>...</td>\n      <td>...</td>\n      <td>...</td>\n      <td>...</td>\n      <td>...</td>\n      <td>...</td>\n    </tr>\n    <tr>\n      <th>738</th>\n      <td>NAD83</td>\n      <td>Relative Humidity</td>\n      <td>1 HOUR</td>\n      <td>NaN</td>\n      <td>2022-01-31</td>\n      <td>Percent relative humidity</td>\n      <td>.</td>\n      <td>Y</td>\n      <td>Rhode Island</td>\n      <td>Providence</td>\n      <td>Providence</td>\n      <td>CCRI Liston Campus ROOFTOP</td>\n      <td>1 Hilton St, PROVIDENCE RI</td>\n      <td>Providence-Warwick, RI-MA</td>\n      <td>AQS Data Mart</td>\n    </tr>\n    <tr>\n      <th>739</th>\n      <td>NAD83</td>\n      <td>Black carbon PM2.5 STP</td>\n      <td>1 HOUR</td>\n      <td>NaN</td>\n      <td>2022-01-31</td>\n      <td>Micrograms/cubic meter (25 C)</td>\n      <td>.</td>\n      <td>Y</td>\n      <td>Rhode Island</td>\n      <td>Providence</td>\n      <td>Providence</td>\n      <td>CCRI Liston Campus ROOFTOP</td>\n      <td>1 Hilton St, PROVIDENCE RI</td>\n      <td>Providence-Warwick, RI-MA</td>\n      <td>AQS Data Mart</td>\n    </tr>\n    <tr>\n      <th>740</th>\n      <td>NAD83</td>\n      <td>Std Dev Vt Wind Direction</td>\n      <td>1 HOUR</td>\n      <td>NaN</td>\n      <td>2022-01-31</td>\n      <td>Degrees Compass</td>\n      <td>.</td>\n      <td>Y</td>\n      <td>Rhode Island</td>\n      <td>Providence</td>\n      <td>Providence</td>\n      <td>CCRI Liston Campus ROOFTOP</td>\n      <td>1 Hilton St, PROVIDENCE RI</td>\n      <td>Providence-Warwick, RI-MA</td>\n      <td>AQS Data Mart</td>\n    </tr>\n    <tr>\n      <th>741</th>\n      <td>NAD83</td>\n      <td>Wind Speed - Resultant</td>\n      <td>1 HOUR</td>\n      <td>NaN</td>\n      <td>2022-01-31</td>\n      <td>Knots</td>\n      <td>.</td>\n      <td>Y</td>\n      <td>Rhode Island</td>\n      <td>Providence</td>\n      <td>Providence</td>\n      <td>CCRI Liston Campus ROOFTOP</td>\n      <td>1 Hilton St, PROVIDENCE RI</td>\n      <td>Providence-Warwick, RI-MA</td>\n      <td>AQS Data Mart</td>\n    </tr>\n    <tr>\n      <th>742</th>\n      <td>NAD83</td>\n      <td>Wind Direction - Resultant</td>\n      <td>1 HOUR</td>\n      <td>NaN</td>\n      <td>2022-01-31</td>\n      <td>Degrees Compass</td>\n      <td>.</td>\n      <td>Y</td>\n      <td>Rhode Island</td>\n      <td>Providence</td>\n      <td>Providence</td>\n      <td>CCRI Liston Campus ROOFTOP</td>\n      <td>1 Hilton St, PROVIDENCE RI</td>\n      <td>Providence-Warwick, RI-MA</td>\n      <td>AQS Data Mart</td>\n    </tr>\n  </tbody>\n</table>\n<p>743 rows × 15 columns</p>\n</div>"
     },
     "execution_count": 50,
     "metadata": {},
     "output_type": "execute_result"
    }
   ],
   "source": [
    "# Inspect Object fields\n",
    "df_2022_01.select_dtypes(include='object')"
   ],
   "metadata": {
    "collapsed": false
   }
  },
  {
   "cell_type": "code",
   "execution_count": null,
   "outputs": [],
   "source": [],
   "metadata": {
    "collapsed": false
   }
  }
 ],
 "metadata": {
  "kernelspec": {
   "display_name": "Python 3",
   "language": "python",
   "name": "python3"
  },
  "language_info": {
   "codemirror_mode": {
    "name": "ipython",
    "version": 2
   },
   "file_extension": ".py",
   "mimetype": "text/x-python",
   "name": "python",
   "nbconvert_exporter": "python",
   "pygments_lexer": "ipython2",
   "version": "2.7.6"
  }
 },
 "nbformat": 4,
 "nbformat_minor": 0
}
