{
 "cells": [
  {
   "cell_type": "markdown",
   "source": [
    "# Hello World notebook for checking imports from `../src/`\n",
    "\n",
    "The following cell should print \"world\"."
   ],
   "metadata": {
    "collapsed": false
   }
  },
  {
   "cell_type": "code",
   "execution_count": 3,
   "outputs": [
    {
     "name": "stdout",
     "output_type": "stream",
     "text": [
      "world\n"
     ]
    }
   ],
   "source": [
    "from src import hello\n",
    "hello()"
   ],
   "metadata": {
    "collapsed": false,
    "ExecuteTime": {
     "end_time": "2023-06-06T14:59:32.815356Z",
     "start_time": "2023-06-06T14:59:32.802272Z"
    }
   }
  },
  {
   "cell_type": "markdown",
   "source": [
    "If it fails, make sure you've run\n",
    "```shell\n",
    "pip install -e .\n",
    "```\n",
    "in the project root directory."
   ],
   "metadata": {
    "collapsed": false
   }
  }
 ],
 "metadata": {
  "kernelspec": {
   "display_name": "Python 3",
   "language": "python",
   "name": "python3"
  },
  "language_info": {
   "codemirror_mode": {
    "name": "ipython",
    "version": 2
   },
   "file_extension": ".py",
   "mimetype": "text/x-python",
   "name": "python",
   "nbconvert_exporter": "python",
   "pygments_lexer": "ipython2",
   "version": "2.7.6"
  }
 },
 "nbformat": 4,
 "nbformat_minor": 0
}
