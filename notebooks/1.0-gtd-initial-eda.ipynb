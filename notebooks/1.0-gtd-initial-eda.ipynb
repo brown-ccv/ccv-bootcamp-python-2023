{
 "cells": [
  {
   "cell_type": "code",
   "execution_count": 120,
   "metadata": {
    "collapsed": true
   },
   "outputs": [],
   "source": [
    "import pandas as pd\n",
    "from pathlib import Path\n",
    "import os"
   ]
  },
  {
   "cell_type": "code",
   "execution_count": 122,
   "outputs": [
    {
     "data": {
      "text/plain": "<bound method NDFrame.head of      State Code  County Code  Site Number  Parameter Code  POC   Latitude   \n0            44            7           22           61103    1  41.807469  \\\n1            44            7           22           62201    1  41.807469   \n2            44            7           22           61104    1  41.807469   \n3            44            7           22           61107    1  41.807469   \n4            44            7           22           62101    1  41.807469   \n..          ...          ...          ...             ...  ...        ...   \n800          44            7           22           45501    7  41.807469   \n801          44            7           22           43551    7  41.807469   \n802          44            7           22           43503    5  41.807469   \n803          44            7           22           43551    5  41.807469   \n804          44            7           22           43502    5  41.807469   \n\n     Longitude  Datum              Parameter Name Duration Description  ...   \n0   -71.412968  NAD83      Wind Speed - Resultant               1 HOUR  ...  \\\n1   -71.412968  NAD83           Relative Humidity               1 HOUR  ...   \n2   -71.412968  NAD83  Wind Direction - Resultant               1 HOUR  ...   \n3   -71.412968  NAD83   Std Dev Vt Wind Direction               1 HOUR  ...   \n4   -71.412968  NAD83         Outdoor Temperature               1 HOUR  ...   \n..         ...    ...                         ...                  ...  ...   \n800 -71.412968  NAD83                Benzaldehyde              24 HOUR  ...   \n801 -71.412968  NAD83                     Acetone              24 HOUR  ...   \n802 -71.412968  NAD83                Acetaldehyde              24 HOUR  ...   \n803 -71.412968  NAD83                     Acetone              24 HOUR  ...   \n804 -71.412968  NAD83                Formaldehyde              24 HOUR  ...   \n\n    AQI Daily Criteria Indicator  Tribe Name    State Name County Name   \n0     .                        Y         NaN  Rhode Island  Providence  \\\n1     .                        Y         NaN  Rhode Island  Providence   \n2     .                        Y         NaN  Rhode Island  Providence   \n3     .                        Y         NaN  Rhode Island  Providence   \n4     .                        Y         NaN  Rhode Island  Providence   \n..   ..                      ...         ...           ...         ...   \n800   .                        Y         NaN  Rhode Island  Providence   \n801   .                        Y         NaN  Rhode Island  Providence   \n802   .                        Y         NaN  Rhode Island  Providence   \n803   .                        Y         NaN  Rhode Island  Providence   \n804   .                        Y         NaN  Rhode Island  Providence   \n\n      City Name             Local Site Name                     Address   \n0    Providence  CCRI Liston Campus ROOFTOP  1 Hilton St, PROVIDENCE RI  \\\n1    Providence  CCRI Liston Campus ROOFTOP  1 Hilton St, PROVIDENCE RI   \n2    Providence  CCRI Liston Campus ROOFTOP  1 Hilton St, PROVIDENCE RI   \n3    Providence  CCRI Liston Campus ROOFTOP  1 Hilton St, PROVIDENCE RI   \n4    Providence  CCRI Liston Campus ROOFTOP  1 Hilton St, PROVIDENCE RI   \n..          ...                         ...                         ...   \n800  Providence  CCRI Liston Campus ROOFTOP  1 Hilton St, PROVIDENCE RI   \n801  Providence  CCRI Liston Campus ROOFTOP  1 Hilton St, PROVIDENCE RI   \n802  Providence  CCRI Liston Campus ROOFTOP  1 Hilton St, PROVIDENCE RI   \n803  Providence  CCRI Liston Campus ROOFTOP  1 Hilton St, PROVIDENCE RI   \n804  Providence  CCRI Liston Campus ROOFTOP  1 Hilton St, PROVIDENCE RI   \n\n              MSA or CBSA Name    Data Source  \n0    Providence-Warwick, RI-MA  AQS Data Mart  \n1    Providence-Warwick, RI-MA  AQS Data Mart  \n2    Providence-Warwick, RI-MA  AQS Data Mart  \n3    Providence-Warwick, RI-MA  AQS Data Mart  \n4    Providence-Warwick, RI-MA  AQS Data Mart  \n..                         ...            ...  \n800  Providence-Warwick, RI-MA  AQS Data Mart  \n801  Providence-Warwick, RI-MA  AQS Data Mart  \n802  Providence-Warwick, RI-MA  AQS Data Mart  \n803  Providence-Warwick, RI-MA  AQS Data Mart  \n804  Providence-Warwick, RI-MA  AQS Data Mart  \n\n[26488 rows x 34 columns]>"
     },
     "execution_count": 122,
     "metadata": {},
     "output_type": "execute_result"
    }
   ],
   "source": [
    "data_files = [s for s in os.listdir('data') if s.startswith('daily_44')]\n",
    "data_files.sort()\n",
    "\n",
    "l_df = []\n",
    "for file in data_files:\n",
    "    l_df.append(pd.read_csv(Path('data') / file))\n",
    "\n",
    "df_data = pd.concat(l_df)\n",
    "df_data.head"
   ],
   "metadata": {
    "collapsed": false
   }
  },
  {
   "cell_type": "code",
   "execution_count": 123,
   "outputs": [],
   "source": [
    "# Lowercase and underscore\n",
    "df_data.columns = (df_data.columns\n",
    "              .str.lower()\n",
    "              .str.replace(' ', '_')\n",
    "              )\n",
    "# Rename some fields\n",
    "df_data.rename(columns={'date_(local)': 'date',\n",
    "                   'day_in_year_(local)': 'day_in_year'\n",
    "                   },\n",
    "          inplace=True\n",
    "          )\n",
    "# Convert to datetime\n",
    "df_data.date = pd.to_datetime(df_data['date'], format='%Y-%m-%d')"
   ],
   "metadata": {
    "collapsed": false
   }
  },
  {
   "cell_type": "code",
   "execution_count": 124,
   "outputs": [
    {
     "data": {
      "text/plain": "state_code                             int64\ncounty_code                            int64\nsite_number                            int64\nparameter_code                         int64\npoc                                    int64\nlatitude                             float64\nlongitude                            float64\ndatum                                 object\nparameter_name                        object\nduration_description                  object\npollutant_standard                    object\ndate                          datetime64[ns]\nyear                                   int64\nday_in_year                            int64\nunits_of_measure                      object\nexceptional_data_type                 object\nnonreg_observation_count             float64\nobservation_count                      int64\nobservation_percent                  float64\nnonreg_arithmetic_mean               float64\narithmetic_mean                      float64\nnonreg_first_maximum_value           float64\nfirst_maximum_value                  float64\nfirst_maximum_hour                     int64\naqi                                   object\ndaily_criteria_indicator              object\ntribe_name                           float64\nstate_name                            object\ncounty_name                           object\ncity_name                             object\nlocal_site_name                       object\naddress                               object\nmsa_or_cbsa_name                      object\ndata_source                           object\ndtype: object"
     },
     "execution_count": 124,
     "metadata": {},
     "output_type": "execute_result"
    }
   ],
   "source": [
    "df_data.dtypes"
   ],
   "metadata": {
    "collapsed": false
   }
  },
  {
   "cell_type": "code",
   "execution_count": 132,
   "outputs": [
    {
     "name": "stdout",
     "output_type": "stream",
     "text": [
      "['Wind Speed - Resultant' 'Relative Humidity' 'Wind Direction - Resultant'\n",
      " 'Std Dev Vt Wind Direction' 'Outdoor Temperature'\n",
      " 'PM2.5 - Local Conditions' 'Black carbon PM2.5 STP' '1,2-Dichlorobenzene'\n",
      " '1,2,4-Trichlorobenzene' 'Chloroethane' 'Trichlorofluoromethane'\n",
      " 'trans-1,2-Dichloroethylene' 'Acrolein - Verified' 'Chloromethane'\n",
      " '1,3-Butadiene' 'Cadmium PM10 STP' 'Chromium PM10 STP' 'Lead PM10 STP'\n",
      " 'Manganese PM10 STP' 'Nickel PM10 STP' 'Arsenic PM10 STP' 'Ethylbenzene'\n",
      " 'Beryllium PM10 STP' 'Formaldehyde' 'Acetaldehyde' 'Acetone'\n",
      " 'Benzo[a]pyrene (TSP) STP' 'Indeno[1,2,3-cd]pyrene (TSP) STP'\n",
      " 'Benzo[e]pyrene (TSP) STP' 'Dibenzo[a,h]anthracene (TSP) STP'\n",
      " 'Benzo[g,h,i]perylene (TSP) STP' 'Perylene (TSP) STP'\n",
      " 'Benzo[a]anthracene (TSP) STP' 'Benzo[b]fluoranthene (TSP) STP'\n",
      " 'Benzo[k]fluoranthene (TSP) STP' 'Anthracene (TSP) STP'\n",
      " 'Fluoranthene (TSP) STP' 'Pyrene (TSP) STP' 'Chrysene (TSP) STP'\n",
      " 'Coronene (TSP) STP' 'Acenaphthylene (TSP) STP' 'Fluorene (TSP) STP'\n",
      " 'Phenanthrene (TSP) STP' 'Benzaldehyde' 'Antimony PM10 STP'\n",
      " 'Naphthalene (TSP) STP' 'Acenaphthene (TSP) STP' 'Naphthalene'\n",
      " 'Bromoform' 'Chloroprene' '1,1,2-Trichloroethane'\n",
      " '1,1,1,2-Tetrachloroethane' '1,3-Dichlorobenzene' 'Butyl benzene'\n",
      " 'PM10 Total 0-10um STP' '1,3,5-Trimethylbenzene' '1,2,4-Trimethylbenzene'\n",
      " 'Styrene' 'm/p Xylene' 'Benzene' 'Toluene' 'o-Xylene' 'n-Octane'\n",
      " 'Cyclohexane' '2,2,4-Trimethylpentane' 'n-Butane' 'n-Pentane' 'n-Hexane'\n",
      " 'n-Heptane' 'trans-1,3-Dichloropropene' 'Ethylene dibromide'\n",
      " 'Chlorobenzene' '1,1,2,2-Tetrachloroethane' '1,1-Dichloroethylene'\n",
      " '1,1-Dichloroethane' 'Ethylene dichloride' '1,2-Dichloropropane'\n",
      " 'cis-1,3-Dichloropropene' 'Tetrachloroethylene' '1,4-Dichlorobenzene'\n",
      " 'Vinyl chloride' 'Acrylonitrile' 'Ethylene oxide' 'Dichloromethane'\n",
      " 'Chloroform' 'Trichloroethylene' 'Methyl tert-butyl ether'\n",
      " 'Methyl ethyl ketone' 'Methyl chloroform' 'Carbon tetrachloride'\n",
      " 'Particle Number, Total Count' 'Bromomethane' 'alpha.-Pinene']\n",
      "parameter_name\n",
      "PM2.5 - Local Conditions          3330\n",
      "Black carbon PM2.5 STP            1155\n",
      "Wind Direction - Resultant        1150\n",
      "Std Dev Vt Wind Direction         1150\n",
      "Relative Humidity                 1075\n",
      "                                  ... \n",
      "Bromomethane                       148\n",
      "alpha.-Pinene                      148\n",
      "Benzo[b]fluoranthene (TSP) STP     128\n",
      "Chrysene (TSP) STP                  59\n",
      "Chloroprene                         24\n",
      "Name: count, Length: 93, dtype: int64\n"
     ]
    }
   ],
   "source": [
    "print(df_data['parameter_name'].unique())\n",
    "print(df_data['parameter_name'].value_counts())"
   ],
   "metadata": {
    "collapsed": false
   }
  },
  {
   "cell_type": "code",
   "execution_count": 134,
   "outputs": [],
   "source": [
    "pd.DataFrame(df_data['parameter_name'].value_counts()).to_csv('data/parms_class.csv')"
   ],
   "metadata": {
    "collapsed": false
   }
  },
  {
   "cell_type": "code",
   "execution_count": 129,
   "outputs": [
    {
     "data": {
      "text/plain": "date\n2020    8593\n2021    8499\n2022    8591\n2023     805\nName: site_number, dtype: int64"
     },
     "execution_count": 129,
     "metadata": {},
     "output_type": "execute_result"
    }
   ],
   "source": [
    "df_data.groupby(df_data['date'].dt.year)['site_number'].count()"
   ],
   "metadata": {
    "collapsed": false
   }
  },
  {
   "cell_type": "code",
   "execution_count": 127,
   "outputs": [
    {
     "data": {
      "text/plain": "0      2020\n1      2020\n2      2020\n3      2020\n4      2020\n       ... \n800    2023\n801    2023\n802    2023\n803    2023\n804    2023\nName: date, Length: 26488, dtype: int32"
     },
     "execution_count": 127,
     "metadata": {},
     "output_type": "execute_result"
    }
   ],
   "source": [
    "df_data['date'].dt.year"
   ],
   "metadata": {
    "collapsed": false
   }
  },
  {
   "cell_type": "code",
   "execution_count": null,
   "outputs": [],
   "source": [],
   "metadata": {
    "collapsed": false
   }
  }
 ],
 "metadata": {
  "kernelspec": {
   "display_name": "Python 3",
   "language": "python",
   "name": "python3"
  },
  "language_info": {
   "codemirror_mode": {
    "name": "ipython",
    "version": 2
   },
   "file_extension": ".py",
   "mimetype": "text/x-python",
   "name": "python",
   "nbconvert_exporter": "python",
   "pygments_lexer": "ipython2",
   "version": "2.7.6"
  }
 },
 "nbformat": 4,
 "nbformat_minor": 0
}
