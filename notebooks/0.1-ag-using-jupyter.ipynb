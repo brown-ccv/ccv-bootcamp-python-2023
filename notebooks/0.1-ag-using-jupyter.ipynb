{
 "cells": [
  {
   "cell_type": "markdown",
   "metadata": {
    "slideshow": {
     "slide_type": "slide"
    }
   },
   "source": [
    "# Notebooks combine code, narrative text, visualizations and mathematics\n",
    "\n",
    "Adapted from https://github.com/compbiocore/ccv_bootcamp_python/blob/main/notebooks/Using_jupyter.ipynb – thanks August and Ashok!"
   ]
  },
  {
   "cell_type": "markdown",
   "metadata": {},
   "source": [
    "## What is a “notebook”?\n",
    "\n",
    "A notebook integrates code and its output into a single document that combines visualizations, narrative text, mathematical equations, and other rich media. In other words: it's a single document where you can run code, display the output, and also add explanations, formulas, charts, and make your work more transparent, understandable, repeatable, and shareable.\n",
    "\n",
    "## What is Jupyter Lab? \n",
    "Jupyter lab is an IDE (integrated development environment) for editing jupyter notebooks. It has more featured and is conveninent for working with multiple notebooks compared to the base jupyter notebook interface."
   ]
  },
  {
   "attachments": {},
   "cell_type": "markdown",
   "metadata": {},
   "source": [
    "## The notebook interface\n",
    "\n",
    "### The menu bar\n",
    "\n",
    "Let's explore the menus first \n",
    "\n",
    "![jupyterlab_interface.png](./images/jupyterlab_interface.png)"
   ]
  },
  {
   "cell_type": "markdown",
   "metadata": {},
   "source": [
    "### Cells \n",
    "Now let's go through the cells which form the body of a notebook.\n",
    "\n",
    "- `Markdown Cell`: A Markdown cell contains text formatted using Markdown and displays its output in-place when the Markdown cell is run."
   ]
  },
  {
   "cell_type": "markdown",
   "metadata": {},
   "source": []
  },
  {
   "cell_type": "markdown",
   "metadata": {},
   "source": [
    "- `Code Cell`:     A code cell contains code to be executed in the kernel. When the code is run, the notebook displays the output below the code cell that generated it."
   ]
  },
  {
   "cell_type": "code",
   "execution_count": null,
   "metadata": {},
   "outputs": [],
   "source": [
    "var1 = 0"
   ]
  },
  {
   "cell_type": "markdown",
   "metadata": {
    "collapsed": false,
    "jupyter": {
     "outputs_hidden": false
    }
   },
   "source": [
    "Cells have two modes of operation:\n",
    "- `Command Mode` - Allows cell manipulations and movement.\n",
    "    - Cell is outlined with a blue bar on the left.\n",
    "- `Edit Mode` - Allows you to edit.\n",
    "    - A blinking cursor is in the cell with a green bar on the left.\n",
    "\n",
    "**Switching Modes**\n",
    "`Enter` - To switch from _Command_ to _Edit_ mode\n",
    "`Esc` - To switch from _Edit_ to _Command_ mode"
   ]
  },
  {
   "cell_type": "markdown",
   "metadata": {},
   "source": [
    "You can display a variable by just listing it at the end your code cell instead of writing a print statement. It just prints the last variable"
   ]
  },
  {
   "cell_type": "code",
   "execution_count": null,
   "metadata": {},
   "outputs": [],
   "source": [
    "var1=10\n",
    "var2=20\n",
    "var1\n",
    "var2"
   ]
  },
  {
   "cell_type": "code",
   "execution_count": null,
   "metadata": {
    "collapsed": false,
    "jupyter": {
     "outputs_hidden": false
    }
   },
   "outputs": [],
   "source": [
    "print(var1)\n",
    "var2"
   ]
  },
  {
   "cell_type": "markdown",
   "metadata": {
    "jp-MarkdownHeadingCollapsed": true
   },
   "source": [
    "### Keyboard Shortcuts\n",
    "\n",
    "One  thing you may have observed when running your cells is that their border turns blue, whereas it was green while you were editing. In a Jupyter Notebook, there is always one “active” cell highlighted with a border whose color denotes its current mode:\n",
    "\n",
    "<font color=\"green\">Green outline </font> — cell is in \"edit mode\"\n",
    "* Allows editing cell content\n",
    "\n",
    "<font color=\"blue\">Blue outline <font> — cell is in \"command mode\"\n",
    "* Allows cell whole-cell manipulations and movement.\n",
    "\n",
    "**Switching Modes**\n",
    "`Enter` - To switch from _Command_ to _Edit_ mode\n",
    "`Esc` - To switch from _Edit_ to _Command_ mode"
   ]
  },
  {
   "cell_type": "markdown",
   "metadata": {},
   "source": [
    "Some of my favorites:\n",
    "- While in command mode:\n",
    "     - `A` to insert a new cell above the current cell\n",
    "     - `B` to insert a new cell below the current cell\n",
    "     - `M` to change the current cell to Markdown\n",
    "     - `Y` to change it back to code\n",
    "     - `D D` (press the key twice) to delete the current cell\n",
    "     - `X` Cut cells\n",
    "     - `V` Paste cut cells\n",
    "\n",
    "- `Shift + Tab` will show you the Docstring (documentation) for the object you have just typed in a code cell – you can keep pressing this shortcut to cycle through a few modes of documentation.\n",
    "- `Ctrl + Shift + -` will split the current cell into two from where your cursor is.\n",
    "- `Esc + F` Find and replace on your code but not the outputs.\n",
    "- `Esc + O` Toggle cell output.\n",
    "- Select Multiple Cells:\n",
    "     - Shift + J or Shift + Down selects the next sell in a downwards direction. You can also select sells in an upwards direction by using Shift + K or Shift + Up.\n",
    "     - Once cells are selected, you can then delete / copy / cut / paste / run them as a batch. This is helpful when you need to move parts of a notebook.\n",
    "     - You can also use Shift + M to merge multiple cells."
   ]
  },
  {
   "cell_type": "markdown",
   "metadata": {
    "collapsed": false,
    "jupyter": {
     "outputs_hidden": false
    }
   },
   "source": [
    "# ⚠️ Common Pitfalls\n",
    "## 1. Be mindful of cell execution order!\n",
    "📘 **Notebooks**: Cell Ordering Problems\n",
    "Cells can be run non-linearly. This often happens while developing and experimenting.\n",
    "\n",
    "These cells are out-of-order:"
   ]
  },
  {
   "cell_type": "code",
   "execution_count": null,
   "metadata": {
    "collapsed": false,
    "jupyter": {
     "outputs_hidden": false
    }
   },
   "outputs": [],
   "source": [
    "# Setup for the coming demonstration – delete the variable \"a\"\n",
    "# – run this first, but only if you've already run the second next cell!\n",
    "del(a)"
   ]
  },
  {
   "cell_type": "code",
   "execution_count": null,
   "metadata": {
    "collapsed": false,
    "jupyter": {
     "outputs_hidden": false
    }
   },
   "outputs": [],
   "source": [
    "# Increment a by one – run this third!\n",
    "a += 1"
   ]
  },
  {
   "cell_type": "code",
   "execution_count": null,
   "metadata": {
    "collapsed": false,
    "jupyter": {
     "outputs_hidden": false
    }
   },
   "outputs": [],
   "source": [
    "# Initialize `a` to zero – run this first (the first time around) or second (thereafter)!\n",
    "a = 0"
   ]
  },
  {
   "cell_type": "code",
   "execution_count": null,
   "metadata": {
    "collapsed": false,
    "jupyter": {
     "outputs_hidden": false
    }
   },
   "outputs": [],
   "source": [
    "# Print the current value of a – run this last!\n",
    "print(a)"
   ]
  },
  {
   "cell_type": "markdown",
   "metadata": {
    "collapsed": false,
    "jupyter": {
     "outputs_hidden": false
    }
   },
   "source": [
    "It's really easy to experiment with cells and end up requiring them to run in the wrong order.\n",
    "\n",
    "This is dangerous, as you'll forget to document the order and in a month or a year will have forgotten how to run your analysis. So make sure you can run your cells from top to bottom, and that they generate the same results every time.\n",
    "\n",
    "🦮 Live demo: reorder the cells so they run the same each time. 🦮"
   ]
  },
  {
   "cell_type": "markdown",
   "metadata": {
    "collapsed": false,
    "jupyter": {
     "outputs_hidden": false
    }
   },
   "source": [
    "### Pro-Tip: restart and rerun often\n",
    "Get into the habit of regularly\n",
    "- restarting the ipython \"kernel\", then\n",
    "- running all cells of your notebook, then\n",
    "- checking for and fixing any errors."
   ]
  },
  {
   "cell_type": "markdown",
   "metadata": {},
   "source": [
    "## Resources\n",
    "Some useful resources that I have found and can be used as a starting point\n",
    "- [https://www.dataquest.io/blog/jupyter-notebook-tutorial/](https://www.dataquest.io/blog/jupyter-notebook-tutorial/)\n",
    "- [https://www.dataquest.io/blog/jupyter-notebook-tips-tricks-shortcuts/](https://www.dataquest.io/blog/jupyter-notebook-tips-tricks-shortcuts/)\n",
    "-[https://www.dataquest.io/blog/advanced-jupyter-notebooks-tutorial/](https://www.dataquest.io/blog/advanced-jupyter-notebooks-tutorial/)"
   ]
  },
  {
   "cell_type": "code",
   "execution_count": null,
   "metadata": {},
   "outputs": [],
   "source": []
  }
 ],
 "metadata": {
  "celltoolbar": "Slideshow",
  "kernelspec": {
   "display_name": "Python 3 (ipykernel)",
   "language": "python",
   "name": "python3"
  },
  "language_info": {
   "codemirror_mode": {
    "name": "ipython",
    "version": 3
   },
   "file_extension": ".py",
   "mimetype": "text/x-python",
   "name": "python",
   "nbconvert_exporter": "python",
   "pygments_lexer": "ipython3",
   "version": "3.10.14"
  },
  "toc": {
   "base_numbering": 1,
   "nav_menu": {},
   "number_sections": true,
   "sideBar": true,
   "skip_h1_title": true,
   "title_cell": "Table of Contents",
   "title_sidebar": "Contents",
   "toc_cell": true,
   "toc_position": {},
   "toc_section_display": true,
   "toc_window_display": false
  }
 },
 "nbformat": 4,
 "nbformat_minor": 4
}
