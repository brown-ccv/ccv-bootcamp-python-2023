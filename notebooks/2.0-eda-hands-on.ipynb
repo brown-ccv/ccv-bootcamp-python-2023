{
 "cells": [
  {
   "cell_type": "markdown",
   "source": [
    "# Exploratory Data Analysis: Hands-On\n",
    "Now it's your turn try some EDA techniques we covered in the walkthrough on your own. In the walkthough we explored daily air quality data from 2022. Can you apply similar techniques to process and explore data from a much larger dataset?\n",
    "\n",
    "In the data folder there is a directory of annual daily data over the past decade.\n",
    "```\n",
    "project\n",
    "├── data\n",
    "│   └── raw\n",
    "│       └── annual   <- Data is here\n",
    "│\n",
    "└── notebooks        <- Our working directory is here\n",
    "```\n",
    "\n",
    "#### Task 1: Combine the data files to a DataFrame\n",
    "#### Task 2: Are there irregularities in the larger dataset that were not present in the 2022 dataset?\n",
    "* nulls? duplicates?\n",
    "* Additional parameters?\n",
    "* Frequency of measurement?\n",
    "\n",
    "#### Task 3: What new insights in particulate matter trends can we gain from the expanded dataset?\n",
    "* Seasonality\n",
    "* Improvement or degradation over the years?\n",
    "\n",
    "#### *Extra Credit*\n",
    "* How is this site doing when it comes to meeting [National Ambient Air Quality Standards](https://www.epa.gov/criteria-air-pollutants/naaqs-table)? (PM and Lead)\n",
    "* Given the proximity of the site to the I95 highway and industrial sites, can we detect trends or periodicity in air pollutant concentrations? Do physical parameters like wind direction and speed have any influence?\n"
   ],
   "metadata": {
    "collapsed": false
   }
  },
  {
   "cell_type": "code",
   "execution_count": null,
   "outputs": [],
   "source": [],
   "metadata": {
    "collapsed": false
   }
  }
 ],
 "metadata": {
  "kernelspec": {
   "display_name": "Python 3",
   "language": "python",
   "name": "python3"
  },
  "language_info": {
   "codemirror_mode": {
    "name": "ipython",
    "version": 2
   },
   "file_extension": ".py",
   "mimetype": "text/x-python",
   "name": "python",
   "nbconvert_exporter": "python",
   "pygments_lexer": "ipython2",
   "version": "2.7.6"
  }
 },
 "nbformat": 4,
 "nbformat_minor": 0
}
