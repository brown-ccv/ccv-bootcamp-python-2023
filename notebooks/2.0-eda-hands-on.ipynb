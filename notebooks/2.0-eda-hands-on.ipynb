{
 "cells": [
  {
   "cell_type": "markdown",
   "metadata": {},
   "source": [
    "# Exploratory Data Analysis: Hands-On\n",
    "Now it's your turn try some EDA techniques we covered in the walkthrough on your own. In the walkthough we explored daily air quality data from 2022. Can you apply similar techniques to process and explore data from a much larger dataset?\n",
    "\n",
    "In the data folder there is a directory of annual daily data over the past decade.\n",
    "```\n",
    "project\n",
    "├── data\n",
    "│   └── raw\n",
    "│       └── annual   <- Data is here\n",
    "│\n",
    "└── notebooks        <- Our working directory is here\n",
    "```"
   ]
  },
  {
   "cell_type": "markdown",
   "metadata": {},
   "source": [
    "#### Task 1: Combine the data files to a DataFrame\n",
    "#### Task 2: Are there irregularities in the larger dataset that were not present in the 2022 dataset?\n",
    "* Nulls? Duplicates?\n",
    "* Additional parameters?\n",
    "* Frequency of measurement?\n",
    "\n",
    "#### Task 3: What new insights in particulate matter trends can we gain from the expanded dataset?\n",
    "* Seasonality\n",
    "* Improvement or degradation over the years?\n",
    "\n",
    "#### *Extra Credit*\n",
    "* How is this site doing when it comes to meeting [National Ambient Air Quality Standards](https://www.epa.gov/criteria-air-pollutants/naaqs-table)? (PM and Lead)\n",
    "* Given the proximity of the site to the I95 highway and industrial sites, can we detect trends or periodicity in air pollutant concentrations? Do physical parameters like wind direction and speed have any influence?\n"
   ]
  },
  {
   "cell_type": "code",
   "execution_count": null,
   "metadata": {},
   "outputs": [],
   "source": []
  }
 ],
 "metadata": {
  "kernelspec": {
   "display_name": "Python 3 (ipykernel)",
   "language": "python",
   "name": "python3"
  },
  "language_info": {
   "codemirror_mode": {
    "name": "ipython",
    "version": 3
   },
   "file_extension": ".py",
   "mimetype": "text/x-python",
   "name": "python",
   "nbconvert_exporter": "python",
   "pygments_lexer": "ipython3",
   "version": "3.11.1"
  }
 },
 "nbformat": 4,
 "nbformat_minor": 1
}
